{
  "cells": [
    {
      "cell_type": "markdown",
      "metadata": {
        "id": "ZvLdqHYpNnFl"
      },
      "source": [
        "# Week 2 - Python Data Types #2"
      ]
    },
    {
      "cell_type": "markdown",
      "metadata": {
        "id": "pVIbJDqDNw-_"
      },
      "source": [
        "**Goal** : Python의 다음과 같은 자료형들을 익히자; List, Tuple, dictionary, set and bool"
      ]
    },
    {
      "cell_type": "markdown",
      "metadata": {
        "id": "BN9fG8wal89j"
      },
      "source": [
        "## 1.List"
      ]
    },
    {
      "cell_type": "markdown",
      "metadata": {
        "id": "DfC4Bh43l89j"
      },
      "source": [
        "지금까지 우리는 숫자와 문자열에 대해서 알아보았다. 하지만 숫자와 문자열만으로 프로그래밍을 하기엔 부족한 점이 많다.\n",
        "\n",
        "예를 들어 1부터 10까지의 숫자 중 홀수 모음인 1, 3, 5, 7, 9의 집합을 생각해 보자.\n",
        "\n",
        "이런 숫자 모음을 숫자나 문자열로 표현하기는 쉽지 않다.\n",
        "\n",
        "파이썬에는 이러한 불편함을 해소할 수 있는 자료형이 존재한다. 그것이 바로 여기에서 공부할 리스트(List)이다."
      ]
    },
    {
      "cell_type": "code",
      "execution_count": null,
      "metadata": {
        "id": "gzi5lURNl89k"
      },
      "outputs": [],
      "source": [
        "odd_list = [1, 3, 5, 7, 9]"
      ]
    },
    {
      "cell_type": "markdown",
      "metadata": {
        "id": "csA02aBVl89k"
      },
      "source": [
        "여러 가지 리스트의 예시"
      ]
    },
    {
      "cell_type": "code",
      "execution_count": null,
      "metadata": {
        "id": "856aOYr9l89l"
      },
      "outputs": [],
      "source": [
        "a = []\n",
        "b = [1, 2, 3]\n",
        "c = ['Life', 'is', 'too', 'short']\n",
        "d = [1, 2, 'Life', 'is']\n",
        "e = [1, 2, ['Life', 'is']]"
      ]
    },
    {
      "cell_type": "markdown",
      "metadata": {
        "id": "eyM-Cokkl89l"
      },
      "source": [
        "### Indexing\n"
      ]
    },
    {
      "cell_type": "code",
      "execution_count": null,
      "metadata": {
        "id": "5zZg_Lacl89l"
      },
      "outputs": [],
      "source": [
        "a = [1, 2, 3]\n",
        "\n",
        "a[0]\n",
        "\n",
        "#a[0] + a[2]\n",
        "\n",
        "#a[-1]"
      ]
    },
    {
      "cell_type": "code",
      "execution_count": null,
      "metadata": {
        "id": "awKHsOugl89m"
      },
      "outputs": [],
      "source": [
        "a = [1, 2, 3, ['a', 'b', 'c']]\n",
        "\n",
        "a[-1]\n",
        "\n",
        "#a[3]"
      ]
    },
    {
      "cell_type": "markdown",
      "metadata": {
        "id": "8kcY3gwPl89m"
      },
      "source": [
        "List a 속의 ['a', 'b', 'c']에서의 'a'를 꺼내는 방법은?"
      ]
    },
    {
      "cell_type": "code",
      "execution_count": 19,
      "metadata": {
        "id": "tobuw0h0l89n",
        "colab": {
          "base_uri": "https://localhost:8080/",
          "height": 35
        },
        "outputId": "c6548566-b2f4-45c1-e1c2-b316bfe432e4"
      },
      "outputs": [
        {
          "output_type": "execute_result",
          "data": {
            "text/plain": [
              "'c'"
            ],
            "application/vnd.google.colaboratory.intrinsic+json": {
              "type": "string"
            }
          },
          "metadata": {},
          "execution_count": 19
        }
      ],
      "source": [
        "a =  ['a', 'b', 'c']\n",
        "a[-1][0]"
      ]
    },
    {
      "cell_type": "markdown",
      "metadata": {
        "id": "VFZjP8bml89n"
      },
      "source": [
        "[삼중 리스트에서 인덱싱하기]"
      ]
    },
    {
      "cell_type": "code",
      "execution_count": null,
      "metadata": {
        "id": "4g-rSmwsl89n"
      },
      "outputs": [],
      "source": [
        "a = [1, 2, ['a', 'b', ['Life', 'is']]]\n",
        "\n",
        "a[2][2][0]"
      ]
    },
    {
      "cell_type": "markdown",
      "metadata": {
        "id": "b2qFSJLSl89o"
      },
      "source": [
        "### Slicing"
      ]
    },
    {
      "cell_type": "markdown",
      "metadata": {
        "id": "x_249h0zl89o"
      },
      "source": [
        "문자열과 마찬가지로 리스트에서도 슬라이싱 기법을 적용할 수 있다. 슬라이싱은 \"나눈다\"는 뜻이라고 했다.\n",
        "\n",
        "\n",
        "자, 그럼 리스트의 슬라이싱에 대해서 살펴보자."
      ]
    },
    {
      "cell_type": "code",
      "execution_count": 12,
      "metadata": {
        "id": "PO3CWRH4l89o",
        "colab": {
          "base_uri": "https://localhost:8080/"
        },
        "outputId": "c7294e49-05ef-4d8e-99cb-d77261794eb9"
      },
      "outputs": [
        {
          "output_type": "execute_result",
          "data": {
            "text/plain": [
              "[1, 2]"
            ]
          },
          "metadata": {},
          "execution_count": 12
        }
      ],
      "source": [
        "a = [1, 2, 3, 4, 5]\n",
        "\n",
        "a[0:2]"
      ]
    },
    {
      "cell_type": "markdown",
      "metadata": {
        "id": "-xUKVWEPl89p"
      },
      "source": [
        "앞의 예를 문자열에서 슬라이싱했던 것과 비교해 보자."
      ]
    },
    {
      "cell_type": "code",
      "execution_count": 13,
      "metadata": {
        "id": "Z5Sy4ZiVl89p",
        "colab": {
          "base_uri": "https://localhost:8080/",
          "height": 35
        },
        "outputId": "a7d048e1-4566-43dd-80d2-4bf9ddd8480a"
      },
      "outputs": [
        {
          "output_type": "execute_result",
          "data": {
            "text/plain": [
              "'12'"
            ],
            "application/vnd.google.colaboratory.intrinsic+json": {
              "type": "string"
            }
          },
          "metadata": {},
          "execution_count": 13
        }
      ],
      "source": [
        "a = \"12345\"\n",
        "\n",
        "a[0:2]"
      ]
    },
    {
      "cell_type": "markdown",
      "metadata": {
        "id": "nyelTfSRl89q"
      },
      "source": [
        "인덱스의 생략"
      ]
    },
    {
      "cell_type": "code",
      "execution_count": 17,
      "metadata": {
        "id": "b40Msdo5l89q",
        "colab": {
          "base_uri": "https://localhost:8080/"
        },
        "outputId": "233cf2b2-0a95-4fb0-aee4-3b48c4fe0c13"
      },
      "outputs": [
        {
          "output_type": "execute_result",
          "data": {
            "text/plain": [
              "[3, 4, 5]"
            ]
          },
          "metadata": {},
          "execution_count": 17
        }
      ],
      "source": [
        "a = [1, 2, 3, 4, 5]\n",
        "\n",
        "a[2:]\n",
        "\n",
        "# a[:4]"
      ]
    },
    {
      "cell_type": "markdown",
      "metadata": {
        "id": "CQ8ZuWd-9TZ2"
      },
      "source": [
        "**Step size 조절하기**"
      ]
    },
    {
      "cell_type": "markdown",
      "metadata": {
        "id": "kVPHSUsT9Yv9"
      },
      "source": [
        "Slicing에서, :을 하나 더 써서 세 번째 자리에 원하는 step size (혹은 stride size)를 정할 수 있다."
      ]
    },
    {
      "cell_type": "code",
      "execution_count": null,
      "metadata": {
        "colab": {
          "base_uri": "https://localhost:8080/"
        },
        "id": "ThwKTZxP9Tgd",
        "outputId": "fa6f74b9-dc1a-4aac-d253-c50377460a47"
      },
      "outputs": [
        {
          "data": {
            "text/plain": [
              "[1, 3, 5, 7, 9]"
            ]
          },
          "execution_count": 1,
          "metadata": {},
          "output_type": "execute_result"
        }
      ],
      "source": [
        "li = [1, 2, 3, 4, 5, 6, 7, 8, 9, 10]\n",
        "\n",
        "li[:10:2]\n",
        "\n",
        "# li[1:10:2]"
      ]
    },
    {
      "cell_type": "markdown",
      "metadata": {
        "id": "vP0TtK7el89r"
      },
      "source": [
        "### Concatenation & Repetition"
      ]
    },
    {
      "cell_type": "markdown",
      "metadata": {
        "id": "BHDNf-i4l89r"
      },
      "source": [
        "리스트 역시 +기호를 사용해서 더할 수 있고 * 기호를 사용해서 반복할 수 있다.\n",
        "\n",
        "문자열과 마찬가지로 리스트에서도 되는지 직접 확인해 보자."
      ]
    },
    {
      "cell_type": "code",
      "execution_count": null,
      "metadata": {
        "id": "pKXDqVNEl89r"
      },
      "outputs": [],
      "source": [
        "a = [1, 2, 3]\n",
        "b = [4, 5, 6]\n",
        "\n",
        "a + b"
      ]
    },
    {
      "cell_type": "code",
      "execution_count": null,
      "metadata": {
        "id": "R9OcIBVIl89s"
      },
      "outputs": [],
      "source": [
        "a = [1, 2, 3]\n",
        "\n",
        "a * 3"
      ]
    },
    {
      "cell_type": "markdown",
      "metadata": {
        "id": "_DFMYCLul89s"
      },
      "source": [
        "### Modification & Deletion"
      ]
    },
    {
      "cell_type": "markdown",
      "metadata": {
        "id": "p9OMGZzIl89s"
      },
      "source": [
        "리스트는 값을 수정하거나 삭제할 수 있다."
      ]
    },
    {
      "cell_type": "markdown",
      "metadata": {
        "id": "tlU3j4yQl89t"
      },
      "source": [
        "**리스트에서 값 수정하기**"
      ]
    },
    {
      "cell_type": "code",
      "execution_count": null,
      "metadata": {
        "id": "XWNxaj3El89t"
      },
      "outputs": [],
      "source": [
        "a = [1, 2, 3]\n",
        "\n",
        "a[2] = 4\n",
        "\n",
        "a"
      ]
    },
    {
      "cell_type": "markdown",
      "metadata": {
        "id": "CX4s6E1bl89u"
      },
      "source": [
        "a[2]의 요솟값 3이 4로 바뀌었다."
      ]
    },
    {
      "cell_type": "markdown",
      "metadata": {
        "id": "2q1DKOW_l89u"
      },
      "source": [
        "**del 함수 사용해 리스트 요소 삭제하기**"
      ]
    },
    {
      "cell_type": "code",
      "execution_count": null,
      "metadata": {
        "id": "uo_UF5Djl89u"
      },
      "outputs": [],
      "source": [
        "a = [1, 2, 3]\n",
        "\n",
        "del a[1]\n",
        "\n",
        "a"
      ]
    },
    {
      "cell_type": "markdown",
      "metadata": {
        "id": "54m1k4FEl89v"
      },
      "source": [
        "del a[x]는 x번째 요솟값을 삭제한다. 위에서는 a 리스트에서 a[1]을 삭제하는 방법을 보여준다.\n",
        "\n",
        "\n",
        "다음처럼 슬라이싱 기법을 사용하여 리스트의 요소 여러 개를 한꺼번에 삭제할 수도 있다."
      ]
    },
    {
      "cell_type": "code",
      "execution_count": null,
      "metadata": {
        "id": "-MD8J0Kil89v"
      },
      "outputs": [],
      "source": [
        "a = [1, 2, 3, 4, 5]\n",
        "\n",
        "del a[2:]\n",
        "\n",
        "a"
      ]
    },
    {
      "cell_type": "markdown",
      "metadata": {
        "id": "ReRgYcpcl89w"
      },
      "source": [
        "### Fundamental functions"
      ]
    },
    {
      "cell_type": "markdown",
      "metadata": {
        "id": "0KO6rRWMl89w"
      },
      "source": [
        "**리스트에 요소 추가(append)**"
      ]
    },
    {
      "cell_type": "markdown",
      "metadata": {
        "id": "ugwMar5bl89w"
      },
      "source": [
        "append(x)는 리스트의 맨 마지막에 x를 추가하는 함수이다."
      ]
    },
    {
      "cell_type": "code",
      "execution_count": 20,
      "metadata": {
        "id": "h_mZSv8kl89x",
        "colab": {
          "base_uri": "https://localhost:8080/"
        },
        "outputId": "326861f6-700b-4d4a-ef52-7dc2fde4b097"
      },
      "outputs": [
        {
          "output_type": "execute_result",
          "data": {
            "text/plain": [
              "[1, 2, 3, 4]"
            ]
          },
          "metadata": {},
          "execution_count": 20
        }
      ],
      "source": [
        "a = [1, 2, 3]\n",
        "\n",
        "a.append(4)\n",
        "\n",
        "a"
      ]
    },
    {
      "cell_type": "markdown",
      "metadata": {
        "id": "Rl1mqb77l89x"
      },
      "source": [
        "리스트 안에는 어떤 자료형도 추가할 수 있다. 다음 예는 리스트에 다시 리스트를 추가한 결과이다."
      ]
    },
    {
      "cell_type": "code",
      "execution_count": 21,
      "metadata": {
        "id": "--P39_44l89y",
        "colab": {
          "base_uri": "https://localhost:8080/"
        },
        "outputId": "bb41cce5-c4f4-4958-9431-7190e1b5d35a"
      },
      "outputs": [
        {
          "output_type": "execute_result",
          "data": {
            "text/plain": [
              "[1, 2, 3, 4, [5, 6]]"
            ]
          },
          "metadata": {},
          "execution_count": 21
        }
      ],
      "source": [
        "a.append([5,6])\n",
        "\n",
        "a"
      ]
    },
    {
      "cell_type": "markdown",
      "metadata": {
        "id": "apv6rOHyl89y"
      },
      "source": [
        "**리스트 확장(extend)**"
      ]
    },
    {
      "cell_type": "code",
      "execution_count": 22,
      "metadata": {
        "id": "wAE9vfkYl89y",
        "colab": {
          "base_uri": "https://localhost:8080/"
        },
        "outputId": "250a34a7-3953-495a-efd6-00afaa0923c5"
      },
      "outputs": [
        {
          "output_type": "execute_result",
          "data": {
            "text/plain": [
              "[1, 2, 3, 4, 5]"
            ]
          },
          "metadata": {},
          "execution_count": 22
        }
      ],
      "source": [
        "a = [1,2,3]\n",
        "\n",
        "a.extend([4,5])\n",
        "\n",
        "a"
      ]
    },
    {
      "cell_type": "markdown",
      "metadata": {
        "id": "KjQHGx3tl89z"
      },
      "source": [
        "**리스트 정렬(sort)**"
      ]
    },
    {
      "cell_type": "code",
      "execution_count": 26,
      "metadata": {
        "id": "w3l5_OPil89z",
        "colab": {
          "base_uri": "https://localhost:8080/"
        },
        "outputId": "48480ff5-2435-492a-a4eb-0307d3f04faf"
      },
      "outputs": [
        {
          "output_type": "execute_result",
          "data": {
            "text/plain": [
              "[1, 2, 3, 4]"
            ]
          },
          "metadata": {},
          "execution_count": 26
        }
      ],
      "source": [
        "a = [1, 4, 3, 2]\n",
        "a.sort()\n",
        "a\n",
        "\n",
        "#a = ['a', 'c', 'b']\n",
        "#a.sort()"
      ]
    },
    {
      "cell_type": "markdown",
      "metadata": {
        "id": "MFs8ZZbxl89z"
      },
      "source": [
        "**리스트 뒤집기(reverse)**"
      ]
    },
    {
      "cell_type": "code",
      "execution_count": null,
      "metadata": {
        "id": "HBrcH4KKl890"
      },
      "outputs": [],
      "source": [
        "a = ['a', 'c', 'b']\n",
        "\n",
        "a.reverse()\n",
        "\n",
        "a"
      ]
    },
    {
      "cell_type": "markdown",
      "metadata": {
        "id": "kC8dMUYsl890"
      },
      "source": [
        "**인덱스 반환(index)**"
      ]
    },
    {
      "cell_type": "code",
      "execution_count": 24,
      "metadata": {
        "id": "f3CGioy2l890",
        "colab": {
          "base_uri": "https://localhost:8080/"
        },
        "outputId": "da64a1fa-a4f4-4b45-e409-741740d68a71"
      },
      "outputs": [
        {
          "output_type": "execute_result",
          "data": {
            "text/plain": [
              "1"
            ]
          },
          "metadata": {},
          "execution_count": 24
        }
      ],
      "source": [
        "a = [1,2,3]\n",
        "\n",
        "a.index(2)"
      ]
    },
    {
      "cell_type": "markdown",
      "metadata": {
        "id": "ju-S6tKkl891"
      },
      "source": [
        "**리스트에 요소 삽입(insert)**"
      ]
    },
    {
      "cell_type": "markdown",
      "metadata": {
        "id": "2TyFDqsxl891"
      },
      "source": [
        "insert(a, b)는 리스트의 a번째 위치에 b를 삽입하는 함수이다. 파이썬은 숫자를 0부터 센다는 것을 반드시 기억하자."
      ]
    },
    {
      "cell_type": "code",
      "execution_count": null,
      "metadata": {
        "id": "ETKfqFSpl892"
      },
      "outputs": [],
      "source": [
        "a = [1, 2, 3]\n",
        "\n",
        "a.insert(0, 4)\n",
        "\n",
        "a"
      ]
    },
    {
      "cell_type": "markdown",
      "metadata": {
        "id": "oucgtcmxl892"
      },
      "source": [
        "**리스트 요소 제거(remove)**"
      ]
    },
    {
      "cell_type": "markdown",
      "metadata": {
        "id": "OjV-AlDHl892"
      },
      "source": [
        "remove(x)는 리스트에서 첫 번째로 나오는 x를 삭제하는 함수이다."
      ]
    },
    {
      "cell_type": "code",
      "execution_count": null,
      "metadata": {
        "id": "2dV-c9lHl893"
      },
      "outputs": [],
      "source": [
        "a = [1, 2, 3, 1, 2, 3]\n",
        "\n",
        "a.remove(3)\n",
        "\n",
        "a"
      ]
    },
    {
      "cell_type": "markdown",
      "metadata": {
        "id": "4hPduVBDl893"
      },
      "source": [
        "**리스트 요소 끄집어내기(pop)**"
      ]
    },
    {
      "cell_type": "markdown",
      "metadata": {
        "id": "r9_Vo-Aql893"
      },
      "source": [
        "pop()은 리스트의 맨 마지막 요소를 리턴하고 그 요소는 삭제한다."
      ]
    },
    {
      "cell_type": "code",
      "execution_count": 7,
      "metadata": {
        "id": "vzbfN16Vl894",
        "colab": {
          "base_uri": "https://localhost:8080/"
        },
        "outputId": "d76b1d40-142a-4b4b-bbaf-51cf329905a6"
      },
      "outputs": [
        {
          "output_type": "execute_result",
          "data": {
            "text/plain": [
              "3"
            ]
          },
          "metadata": {},
          "execution_count": 7
        }
      ],
      "source": [
        "a = [1,2,3]\n",
        "\n",
        "a.pop()"
      ]
    },
    {
      "cell_type": "markdown",
      "metadata": {
        "id": "6RLrMMIVl897"
      },
      "source": [
        "a 리스트 [1, 2, 3]에서 3을 끄집어내고 최종적으로 [1, 2]만 남는 것을 볼 수 있다.\n",
        "\n",
        "pop(x)는 리스트의 x번째 요소를 리턴하고 그 요소는 삭제한다."
      ]
    },
    {
      "cell_type": "code",
      "execution_count": null,
      "metadata": {
        "id": "NYuUSITCl898"
      },
      "outputs": [],
      "source": [
        "a = [1,2,3]\n",
        "\n",
        "a.pop(1)\n",
        "\n",
        "#a"
      ]
    },
    {
      "cell_type": "markdown",
      "metadata": {
        "id": "dWEE_7Bvl898"
      },
      "source": [
        "### Try It! 1"
      ]
    },
    {
      "cell_type": "markdown",
      "metadata": {
        "id": "kZYa7snvl898"
      },
      "source": [
        "```[1, 6, 'abd', ['12', 7], 'zi']```라는 리스트가 있을 때, 이 리스트의 4번째 원소의 마지막 원소를 return하시오."
      ]
    },
    {
      "cell_type": "code",
      "execution_count": 11,
      "metadata": {
        "id": "SzF_z96z56G_",
        "colab": {
          "base_uri": "https://localhost:8080/"
        },
        "outputId": "7441b3cb-0796-46af-fda1-bbfd63a4b068"
      },
      "outputs": [
        {
          "output_type": "execute_result",
          "data": {
            "text/plain": [
              "7"
            ]
          },
          "metadata": {},
          "execution_count": 11
        }
      ],
      "source": [
        "a = [1, 6, 'abd', ['12', 7], 'zi']\n",
        "a[3].pop()"
      ]
    },
    {
      "cell_type": "markdown",
      "metadata": {
        "id": "PBp1p7qw56AW"
      },
      "source": [
        "### Try It! 2"
      ]
    },
    {
      "cell_type": "markdown",
      "metadata": {
        "id": "0-9RoNSa59uE"
      },
      "source": [
        "```[1, 6, '123', ['12', 7], '938']```라는 리스트에서, 원소가 문자열인 원소들을 모두 숫자형으로 바꾸시오."
      ]
    },
    {
      "cell_type": "code",
      "execution_count": 30,
      "metadata": {
        "id": "FRVvZAnDl899",
        "colab": {
          "base_uri": "https://localhost:8080/"
        },
        "outputId": "84b23c55-2e68-4b38-c28f-2d0328e81fe4"
      },
      "outputs": [
        {
          "output_type": "execute_result",
          "data": {
            "text/plain": [
              "[1, 6, '123', ['12', 7], '938']"
            ]
          },
          "metadata": {},
          "execution_count": 30
        }
      ],
      "source": [
        "a = [1, 6, '123', ['12', 7], '938']\n",
        "a"
      ]
    },
    {
      "cell_type": "markdown",
      "metadata": {
        "id": "5QACbivYl899"
      },
      "source": [
        "## 2.Tuple"
      ]
    },
    {
      "cell_type": "markdown",
      "metadata": {
        "id": "Fim4qJx0l89-"
      },
      "source": [
        "튜플(tuple)은 몇 가지 점을 제외하곤 리스트와 거의 비슷하며, 리스트와 다른 점은 다음과 같다.\n",
        "\n",
        "- 리스트는 [ ]으로 둘러싸지만 튜플은 ( )으로 둘러싼다.\n",
        "\n",
        "- 리스트는 요소 값의 생성, 삭제, 수정이 가능하지만 튜플은 요소 값을 바꿀 수 없다."
      ]
    },
    {
      "cell_type": "code",
      "execution_count": null,
      "metadata": {
        "id": "KSMV2Jivl89-"
      },
      "outputs": [],
      "source": [
        "t1 = ()\n",
        "t2 = (1,)\n",
        "t3 = (1, 2, 3)\n",
        "t4 = 1, 2, 3\n",
        "t5 = ('a', 'b', ('ab', 'cd'))"
      ]
    },
    {
      "cell_type": "markdown",
      "metadata": {
        "id": "UbIMzMAQl89_"
      },
      "source": [
        "리스트와 모습은 거의 비슷하지만 튜플에서는 리스트와 다른 2가지 차이점을 찾아볼 수 있다. t2 = (1,)처럼 단지 1개의 요소만을 가질 때는 요소 뒤에 콤마(,)를 반드시 붙여야 한다는 것과 t4 = 1, 2, 3처럼 괄호( )를 생략해도 된다는 점이다.\n",
        "<br><br>\n",
        "얼핏 보면 튜플과 리스트는 비슷한 역할을 하지만 프로그래밍을 할 때 튜플과 리스트는 구별해서 사용하는 것이 유리하다.\n",
        "\n",
        "튜플과 리스트의 가장 큰 차이는 **요솟값을 변화시킬 수 있는가 여**부이다. 즉 리스트의 요솟값은 변화가 가능하고 튜플의 요솟값은 변화가 불가능하다.\n",
        "\n",
        " 평균적으로 튜플보다는 리스트를 더 많이 사용한다."
      ]
    },
    {
      "cell_type": "markdown",
      "metadata": {
        "id": "11E_Fwuwl8-A"
      },
      "source": [
        "1. 튜플 요솟값을 삭제하려 할 때"
      ]
    },
    {
      "cell_type": "code",
      "execution_count": null,
      "metadata": {
        "id": "1I4-h6Zrl8-A"
      },
      "outputs": [],
      "source": [
        "t1 = (1, 2, 'a', 'b')\n",
        "del t1[0]"
      ]
    },
    {
      "cell_type": "markdown",
      "metadata": {
        "id": "l_ezCs0Gl8-B"
      },
      "source": [
        "2. 튜플 요솟값을 변경하려 할 때"
      ]
    },
    {
      "cell_type": "code",
      "execution_count": null,
      "metadata": {
        "id": "1WDQfR57l8-C"
      },
      "outputs": [],
      "source": [
        "t1 = (1, 2, 'a', 'b')\n",
        "t1[0] = 'c'"
      ]
    },
    {
      "cell_type": "markdown",
      "metadata": {
        "id": "DM0juUhxl8-D"
      },
      "source": [
        "이 두 가지를 제외하면, 리스트와 완전히 똑같음!"
      ]
    },
    {
      "cell_type": "markdown",
      "metadata": {
        "id": "LdjhSBzLK4JD"
      },
      "source": [
        "## 3.Dictionary"
      ]
    },
    {
      "cell_type": "markdown",
      "metadata": {
        "id": "ZLM88fyGC2XQ"
      },
      "source": [
        "사람은 누구든지 \"이름\" = \"홍길동\", \"생일\" = \"몇 월 며칠\" 등으로 나타낼 수 있다. 파이썬은 영리하게도 이러한 대응 관계를 나타낼 수 있는 자료형을 가지고 있다. 요즘 사용하는 대부분의 언어도 이러한 대응 관계를 나타내는 자료형을 갖고 있는데, 이를 연관 배열(Associative array) 또는 해시(Hash)라고 한다.\n",
        "\n",
        "<br>\n",
        "\n",
        "파이썬에서는 이러한 자료형을 딕셔너리(Dictionary)라고 하는데, 단어 그대로 해석하면 사전이라는 뜻이다. 즉 \"people\"이라는 단어에 \"사람\", \"baseball\"이라는 단어에 \"야구\"라는 뜻이 부합되듯이 딕셔너리는 Key와 Value를 한 쌍으로 갖는 자료형이다. 예컨대 Key가 \"baseball\"이라면 Value는 \"야구\"가 될 것이다.\n",
        "\n",
        "<br>\n",
        "\n",
        "딕셔너리는 리스트나 튜플처럼 순차적으로(sequential) 해당 요솟값을 구하지 않고 Key를 통해 Value를 얻는다. 이것이 바로 딕셔너리의 가장 큰 특징이다. baseball이라는 단어의 뜻을 찾기 위해 사전의 내용을 순차적으로 모두 검색하는 것이 아니라 baseball이라는 단어가 있는 곳만 펼쳐 보는 것이다."
      ]
    },
    {
      "cell_type": "code",
      "execution_count": null,
      "metadata": {
        "id": "7EWkDKLZkNpu"
      },
      "outputs": [],
      "source": [
        "dic = {'name':'pey', 'phone':'010-9999-1234', 'birth': '1118'}\n",
        "\n",
        "dic"
      ]
    },
    {
      "cell_type": "markdown",
      "metadata": {
        "id": "4l-Uy8vOkQjg"
      },
      "source": [
        "![image.png](data:image/png;base64,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)"
      ]
    },
    {
      "cell_type": "markdown",
      "metadata": {
        "id": "_gnU8fjmkVec"
      },
      "source": [
        "다음 예는 Key로 정수 값 1, Value로 문자열 'hi'를 사용한 예이다."
      ]
    },
    {
      "cell_type": "code",
      "execution_count": null,
      "metadata": {
        "id": "B21QEwnukXn9"
      },
      "outputs": [],
      "source": [
        "a = {1: 'hi'}"
      ]
    },
    {
      "cell_type": "markdown",
      "metadata": {
        "id": "X65oqIAakXGv"
      },
      "source": [
        "또한 다음 예처럼 Value에 리스트도 넣을 수 있다."
      ]
    },
    {
      "cell_type": "code",
      "execution_count": null,
      "metadata": {
        "id": "ubEeI_BYkacA"
      },
      "outputs": [],
      "source": [
        "a = { 'a': [1,2,3]}"
      ]
    },
    {
      "cell_type": "markdown",
      "metadata": {
        "id": "GlLYZ_13ARXM"
      },
      "source": [
        "### Key-value pair 추가, 삭제"
      ]
    },
    {
      "cell_type": "markdown",
      "metadata": {
        "id": "xymZeD3tAl-a"
      },
      "source": [
        "딕셔너리 쌍을 추가하는 방법과 삭제하는 방법을 살펴보자. 먼저 딕셔너리에 쌍을 추가해 보자."
      ]
    },
    {
      "cell_type": "code",
      "execution_count": null,
      "metadata": {
        "id": "yFrHpXXgAmy6",
        "colab": {
          "base_uri": "https://localhost:8080/",
          "height": 35
        },
        "outputId": "6f81c1bd-679d-4e38-aea0-0053afb99a0b"
      },
      "outputs": [
        {
          "output_type": "execute_result",
          "data": {
            "text/plain": [
              "'a'"
            ],
            "application/vnd.google.colaboratory.intrinsic+json": {
              "type": "string"
            }
          },
          "metadata": {},
          "execution_count": 8
        }
      ],
      "source": [
        "a = {1: 'a'}\n",
        "\n",
        "a[1]\n",
        "\n",
        "# print(a)\n",
        "\n",
        "#a['name'] = 'pey'\n",
        "\n",
        "#a[3] = [1,2,3]"
      ]
    },
    {
      "cell_type": "markdown",
      "metadata": {
        "id": "azoVnhIZAvnL"
      },
      "source": [
        "딕셔너리 요소 삭제하기"
      ]
    },
    {
      "cell_type": "code",
      "execution_count": null,
      "metadata": {
        "id": "zXb8sc6sAvMv",
        "colab": {
          "base_uri": "https://localhost:8080/"
        },
        "outputId": "f883f7f3-592a-4d93-fe33-3e1c3d311e98"
      },
      "outputs": [
        {
          "output_type": "execute_result",
          "data": {
            "text/plain": [
              "{}"
            ]
          },
          "metadata": {},
          "execution_count": 6
        }
      ],
      "source": [
        "del a[1]\n",
        "\n",
        "a"
      ]
    },
    {
      "cell_type": "markdown",
      "metadata": {
        "id": "BAhYlK_6A1_F"
      },
      "source": [
        "### When to use Dictionary"
      ]
    },
    {
      "cell_type": "markdown",
      "metadata": {
        "id": "-F3tMJrGA6RJ"
      },
      "source": [
        "\"딕셔너리는 주로 어떤 것을 표현하는 데 사용할까?\"라는 의문이 들 것이다. 예를 들어 4명의 사람이 있다고 가정하고, 각자의 특기를 표현할 수 있는 좋은 방법에 대해서 생각해 보자.\n",
        "\n",
        "리스트나 문자열로는 표현하기가 상당히 까다로울 것이다. 하지만 파이썬의 딕셔너리를 사용한다면 이 상황을 표현하기가 정말 쉽다."
      ]
    },
    {
      "cell_type": "code",
      "execution_count": null,
      "metadata": {
        "id": "zqe83cSYA48M"
      },
      "outputs": [],
      "source": [
        "# 사람 이름 - 특기 pair의 dictionary\n",
        "\n",
        "{\"김연아\":\"피겨스케이팅\", \"류현진\":\"야구\", \"손흥민\":\"축구\", \"Justin Lee\":\"파이썬\"}"
      ]
    },
    {
      "cell_type": "markdown",
      "metadata": {
        "id": "_AJvgv01Cxt0"
      },
      "source": [
        "### How to get values"
      ]
    },
    {
      "cell_type": "markdown",
      "metadata": {
        "id": "o5VsOS14DGU1"
      },
      "source": [
        "어떤 Key의 Value를 얻기 위해서는 ```딕셔너리변수이름[Key]```를 사용한다."
      ]
    },
    {
      "cell_type": "code",
      "execution_count": null,
      "metadata": {
        "id": "PGOHWtfRCyBM",
        "colab": {
          "base_uri": "https://localhost:8080/"
        },
        "outputId": "b8760c00-1f06-4df7-8620-5e06286ff202"
      },
      "outputs": [
        {
          "output_type": "execute_result",
          "data": {
            "text/plain": [
              "10"
            ]
          },
          "metadata": {},
          "execution_count": 7
        }
      ],
      "source": [
        "grade = {'pey': 10, 'julliet': 99, 'justin' : '100', 7 : 70}\n",
        "\n",
        "grade['pey']\n",
        "\n",
        "# grade[7] # Don't be confused with indexing\n",
        "\n",
        "\n",
        "# Try more"
      ]
    },
    {
      "cell_type": "markdown",
      "metadata": {
        "id": "wewIa5XbDDmT"
      },
      "source": [
        "### 딕셔너리 만들 때 주의할 사항"
      ]
    },
    {
      "cell_type": "markdown",
      "metadata": {
        "id": "8fJrNBynDf9O"
      },
      "source": [
        "딕셔너리에서 Key는 고유한 값이므로 중복되는 Key 값을 설정해 놓으면 하나를 제외한 나머지 것들이 모두 무시된다는 점을 주의해야 한다.\n",
        "\n",
        " 다음 예에서 볼 수 있듯이 동일한 Key가 2개 존재할 경우 1:'a' 쌍이 무시된다."
      ]
    },
    {
      "cell_type": "code",
      "execution_count": null,
      "metadata": {
        "id": "7ZPbK1R3DDrr",
        "colab": {
          "base_uri": "https://localhost:8080/"
        },
        "outputId": "ce5cf13c-5ef3-434c-c3f6-97af072fa0f7"
      },
      "outputs": [
        {
          "output_type": "execute_result",
          "data": {
            "text/plain": [
              "{1: 'b'}"
            ]
          },
          "metadata": {},
          "execution_count": 11
        }
      ],
      "source": [
        "a = {1:'a', 1:'b'}\n",
        "\n",
        "a"
      ]
    },
    {
      "cell_type": "markdown",
      "metadata": {
        "id": "DIZ1q91MDpiT"
      },
      "source": [
        "또 한 가지 주의해야 할 사항은 <span style=\"background-color:yellow;\">Key</span>에 리스트는 쓸 수 없다는 것이다. 하지만 **튜플은 Key로 쓸 수 있다**.\n",
        "\n",
        "딕셔너리의 Key로 쓸 수 있느냐 없느냐는 Key가 변하는(mutable) 값인지 변하지 않는(immutable) 값인지에 달려 있다."
      ]
    },
    {
      "cell_type": "code",
      "execution_count": null,
      "metadata": {
        "id": "fYCyzPv4Dpnz",
        "colab": {
          "base_uri": "https://localhost:8080/",
          "height": 35
        },
        "outputId": "bd828a14-4722-40f3-a55c-d6e87ea6a288"
      },
      "outputs": [
        {
          "output_type": "execute_result",
          "data": {
            "text/plain": [
              "'hi'"
            ],
            "application/vnd.google.colaboratory.intrinsic+json": {
              "type": "string"
            }
          },
          "metadata": {},
          "execution_count": 17
        }
      ],
      "source": [
        "a = {(1,2) : 'hi'}\n",
        "a[(1,2)]"
      ]
    },
    {
      "cell_type": "markdown",
      "metadata": {
        "id": "A_u8epTbERmK"
      },
      "source": [
        "### Fundamental functions"
      ]
    },
    {
      "cell_type": "markdown",
      "metadata": {
        "id": "hIPsWnR4EV_S"
      },
      "source": [
        "**Key 리스트 만들기(keys)**"
      ]
    },
    {
      "cell_type": "markdown",
      "metadata": {
        "id": "Fs8XYNMCEhtq"
      },
      "source": [
        "a.keys()는 딕셔너리 a의 Key만을 모아서 **dict_keys 객체**를 리턴한다."
      ]
    },
    {
      "cell_type": "code",
      "execution_count": null,
      "metadata": {
        "id": "gx0x6psjERrS",
        "colab": {
          "base_uri": "https://localhost:8080/"
        },
        "outputId": "ea94da5b-fdc7-462f-c06a-eb08630b405b"
      },
      "outputs": [
        {
          "output_type": "execute_result",
          "data": {
            "text/plain": [
              "dict_keys(['name', 'phone', 'birth'])"
            ]
          },
          "metadata": {},
          "execution_count": 18
        }
      ],
      "source": [
        "a = {'name': 'pey', 'phone': '010-9999-1234', 'birth': '1118'}\n",
        "\n",
        "a.keys()"
      ]
    },
    {
      "cell_type": "markdown",
      "metadata": {
        "id": "rK6lXFsHEbOW"
      },
      "source": [
        "객체 타입을 list로 변경하고 싶으면, list()를 사용하면 된다."
      ]
    },
    {
      "cell_type": "code",
      "execution_count": null,
      "metadata": {
        "id": "hZk4A8XvEbgT",
        "colab": {
          "base_uri": "https://localhost:8080/"
        },
        "outputId": "952f616e-ebc6-4edf-a1b2-02ebd3b87353"
      },
      "outputs": [
        {
          "output_type": "execute_result",
          "data": {
            "text/plain": [
              "['name', 'phone', 'birth']"
            ]
          },
          "metadata": {},
          "execution_count": 23
        }
      ],
      "source": [
        "# Convert a.keys()'s type to list\n",
        "\n",
        "a = {'name': 'pey', 'phone': '010-9999-1234', 'birth': '1118'}\n",
        "\n",
        "a.keys()\n",
        "\n",
        "list(a.keys())"
      ]
    },
    {
      "cell_type": "markdown",
      "metadata": {
        "id": "1P_Mb2YSEwDE"
      },
      "source": [
        "**Value 리스트 만들기(values)**"
      ]
    },
    {
      "cell_type": "markdown",
      "metadata": {
        "id": "382f3sVxEyKq"
      },
      "source": [
        "Key를 얻는 것과 마찬가지 방법으로 Value만 얻고 싶다면 values 함수를 사용하면 된다. values 함수를 호출하면 dict_values 객체를 돌려준다."
      ]
    },
    {
      "cell_type": "code",
      "execution_count": null,
      "metadata": {
        "id": "nj2pgtzpEzhv",
        "colab": {
          "base_uri": "https://localhost:8080/"
        },
        "outputId": "a743282c-6bac-4dbf-8674-34d45643640d"
      },
      "outputs": [
        {
          "output_type": "execute_result",
          "data": {
            "text/plain": [
              "['pey', '010-9999-1234', '1118']"
            ]
          },
          "metadata": {},
          "execution_count": 25
        }
      ],
      "source": [
        "a.values()\n",
        "list(a.values())\n"
      ]
    },
    {
      "cell_type": "markdown",
      "metadata": {
        "id": "zW_Dg4EOLxjh"
      },
      "source": [
        "**Key, Value pair 얻기(items)**"
      ]
    },
    {
      "cell_type": "markdown",
      "metadata": {
        "id": "PaASLUMrL1ii"
      },
      "source": [
        "items 함수는 Key와 Value의 쌍을 튜플로 묶은 값을 dict_items 객체로 돌려준다"
      ]
    },
    {
      "cell_type": "code",
      "execution_count": null,
      "metadata": {
        "id": "RSnNNk44L3x5",
        "colab": {
          "base_uri": "https://localhost:8080/"
        },
        "outputId": "ba00e8f1-de01-4350-bbf3-3b48e362654b"
      },
      "outputs": [
        {
          "output_type": "execute_result",
          "data": {
            "text/plain": [
              "[('name', 'pey'), ('phone', '010-9999-1234'), ('birth', '1118')]"
            ]
          },
          "metadata": {},
          "execution_count": 27
        }
      ],
      "source": [
        "a.items()\n",
        "list(a.items())"
      ]
    },
    {
      "cell_type": "markdown",
      "metadata": {
        "id": "NqjRLTxKLzTO"
      },
      "source": [
        "**Key: Value pair 모두 지우기(clear)**"
      ]
    },
    {
      "cell_type": "code",
      "execution_count": null,
      "metadata": {
        "id": "E9cHf4vOL7Hi",
        "colab": {
          "base_uri": "https://localhost:8080/"
        },
        "outputId": "3417bd8e-25d8-48b9-cb79-4216d5729732"
      },
      "outputs": [
        {
          "output_type": "execute_result",
          "data": {
            "text/plain": [
              "{}"
            ]
          },
          "metadata": {},
          "execution_count": 28
        }
      ],
      "source": [
        "a.clear()\n",
        "\n",
        "a"
      ]
    },
    {
      "cell_type": "markdown",
      "metadata": {
        "id": "73ZStgBEL0Nk"
      },
      "source": [
        "**Key로 Value얻기(get)**"
      ]
    },
    {
      "cell_type": "markdown",
      "metadata": {
        "id": "XzNz9P5IMFNZ"
      },
      "source": [
        "```a.get('name')```은 ```a['name']```을 사용했을 때와 동일한 결괏값을 리턴한다.\n",
        "\n",
        "다만 다음 예제에서 볼 수 있듯이 ```a['nokey']```처럼 딕셔너리에 존재하지 않는 키로 값을 가져오려고 할 경우 a['nokey'] 방식은 오류를 발생시키고,\n",
        "\n",
        " ```a.get('nokey')``` 방식은 None을 리턴한다는 차이가 있다."
      ]
    },
    {
      "cell_type": "code",
      "execution_count": 39,
      "metadata": {
        "id": "2yHPkRjqL0TQ"
      },
      "outputs": [],
      "source": [
        "a = {'name':'pey', 'phone':'010-9999-1234', 'birth': '1118'}\n",
        "\n",
        "# a['name']\n",
        "\n",
        "# a['name']\n",
        "\n",
        "\n",
        "\n",
        "# Error occurs\n",
        "\n",
        "# a['nokey']\n",
        "a.get('nokey')"
      ]
    },
    {
      "cell_type": "code",
      "source": [
        "a.get('nokey', 'key no exist')\n",
        "# print(a)\n",
        "# a.get('dkls')"
      ],
      "metadata": {
        "colab": {
          "base_uri": "https://localhost:8080/",
          "height": 35
        },
        "id": "unV9QKjE5cV0",
        "outputId": "a94abf63-e3ff-4fc6-a38d-56be2ef66a80"
      },
      "execution_count": 40,
      "outputs": [
        {
          "output_type": "execute_result",
          "data": {
            "text/plain": [
              "'key no exist'"
            ],
            "application/vnd.google.colaboratory.intrinsic+json": {
              "type": "string"
            }
          },
          "metadata": {},
          "execution_count": 40
        }
      ]
    },
    {
      "cell_type": "markdown",
      "metadata": {
        "id": "pEAPVv_VM5_P"
      },
      "source": [
        "해당 Key가 딕셔너리 안에 있는지 조사하기(in)"
      ]
    },
    {
      "cell_type": "code",
      "execution_count": null,
      "metadata": {
        "id": "TQNQ5Md4M6FD",
        "colab": {
          "base_uri": "https://localhost:8080/"
        },
        "outputId": "bc7f15e4-ebf2-4f0f-bb8a-e6c8f3d3194a"
      },
      "outputs": [
        {
          "output_type": "execute_result",
          "data": {
            "text/plain": [
              "True"
            ]
          },
          "metadata": {},
          "execution_count": 54
        }
      ],
      "source": [
        "# a = {'name':'pey', 'phone':'010-9999-1234', 'birth': '1118'}\n",
        "\n",
        "# '' in a\n",
        "\n",
        "# b = ['hello','tom','tdt']\n",
        "b = 'toddler'\n",
        "\n",
        "'toddler' in b\n",
        "\n",
        "\n",
        "# True / False는 Bool data type (곧 배울 것)\n",
        "\n",
        "\n",
        "#'email' in a"
      ]
    },
    {
      "cell_type": "markdown",
      "metadata": {
        "id": "8f76A5kiggUV"
      },
      "source": [
        "### Try It!"
      ]
    },
    {
      "cell_type": "markdown",
      "metadata": {
        "id": "HQWZEEecgiHZ"
      },
      "source": [
        "자신의 이름, 키, 몸무게, 나이, 학년을 나타내는 dictionary를 만들고, 이후 키를 180cm로 덮어쓰기 하시오."
      ]
    },
    {
      "cell_type": "code",
      "execution_count": 93,
      "metadata": {
        "id": "2M5eI4kdgiNg",
        "colab": {
          "base_uri": "https://localhost:8080/"
        },
        "outputId": "d644a1ae-afbc-4c3f-b925-2205eea10356"
      },
      "outputs": [
        {
          "output_type": "stream",
          "name": "stdout",
          "text": [
            "{'키': '180cm'}\n"
          ]
        }
      ],
      "source": [
        "a = {'키':'174cm', '몸무게':'55kg', '나이':'15세', '학년': '중3'}\n",
        "a = {'키':'180cm'}\n",
        "print(a)"
      ]
    },
    {
      "cell_type": "markdown",
      "metadata": {
        "id": "qLxONXu1NxpN"
      },
      "source": [
        "## 4.Set"
      ]
    },
    {
      "cell_type": "markdown",
      "metadata": {
        "id": "TY2PeihAOQAs"
      },
      "source": [
        "집합(set) : 집합에 관련된 것을 쉽게 처리하기 위해 만든 자료형이다."
      ]
    },
    {
      "cell_type": "code",
      "execution_count": null,
      "metadata": {
        "colab": {
          "base_uri": "https://localhost:8080/"
        },
        "id": "MHEVxCodOU7q",
        "outputId": "d97075a3-c3ea-4292-e3d4-4377c290c12f"
      },
      "outputs": [
        {
          "output_type": "execute_result",
          "data": {
            "text/plain": [
              "{'H', 'e', 'l', 'o'}"
            ]
          },
          "metadata": {},
          "execution_count": 76
        }
      ],
      "source": [
        "# s1 = set([1,2,3])\n",
        "\n",
        "# s1\n",
        "\n",
        "s2 = set(\"Hello\")\n",
        "\n",
        "s2"
      ]
    },
    {
      "cell_type": "markdown",
      "metadata": {
        "id": "bUv5uD68OcT6"
      },
      "source": [
        "- 비어 있는 집합 자료형은 s = set()로 만들수 있다."
      ]
    },
    {
      "cell_type": "markdown",
      "metadata": {
        "id": "Q5w3cu6qOQG2"
      },
      "source": [
        "### Set의 특징"
      ]
    },
    {
      "cell_type": "markdown",
      "metadata": {
        "id": "4nLlTSm2On1l"
      },
      "source": [
        "위에서 살펴본 ```set(\"Hello\")```의 결과가 좀 이상하지 않은가?\n",
        "\n",
        "분명 \"Hello\" 문자열로 set 자료형을 만들었는데 생성된 자료형에는 l 문자가 하나 빠져 있고 순서도 뒤죽박죽이다.\n",
        "\n",
        "그 이유는 set에 다음과 같은 **2가지 큰 특징**이 있기 때문이다.\n",
        "\n",
        "- 중복을 허용하지 않는다.\n",
        "- 순서가 없다(Unordered)."
      ]
    },
    {
      "cell_type": "markdown",
      "metadata": {
        "id": "4xQ2XxtXO1l5"
      },
      "source": [
        "- 중복을 허용하지 특징 때문에 set은 자료형의 중복을 제거하기 위한 필터로 종종 사용된다.\n",
        "\n",
        "- Dictionary처럼, 순서가 없기 때문에 index를 지원하지 않는다."
      ]
    },
    {
      "cell_type": "markdown",
      "metadata": {
        "id": "e1vk3L1GPDMG"
      },
      "source": [
        "만약 set 자료형에 저장된 값을 인덱싱으로 접근하려면 다음과 같이 리스트나 튜플로 변환한후 해야 한다."
      ]
    },
    {
      "cell_type": "code",
      "execution_count": null,
      "metadata": {
        "colab": {
          "base_uri": "https://localhost:8080/"
        },
        "id": "Sp7noA6DNx0F",
        "outputId": "ae0cbb1a-6397-484b-fecb-73b4b2ab04a7"
      },
      "outputs": [
        {
          "output_type": "execute_result",
          "data": {
            "text/plain": [
              "[1, 2, 3]"
            ]
          },
          "metadata": {},
          "execution_count": 81
        }
      ],
      "source": [
        "s1 = set([1,2,3])\n",
        "l1 = list(s1)\n",
        "l1\n",
        "\n",
        "\n",
        "# l1[0]\n",
        "\n",
        "#t1 = tuple(s1)\n",
        "#t1\n",
        "\n",
        "#t1[0]\n"
      ]
    },
    {
      "cell_type": "markdown",
      "metadata": {
        "id": "iJTx6AhgPmWs"
      },
      "source": [
        "### When to use Set"
      ]
    },
    {
      "cell_type": "markdown",
      "metadata": {
        "id": "eezCpOxPPsHm"
      },
      "source": [
        "set 자료형을 정말 유용하게 사용하는 경우는 교집합, 합집합, 차집합을 구할 때이다.\n",
        "\n",
        "우선 다음과 같이 2개의 set 자료형을 만든 후 따라 해 보자. s1은 1부터 6까지의 값을 가지게 되었고, s2는 4부터 9까지의 값을 가지게 되었다."
      ]
    },
    {
      "cell_type": "code",
      "execution_count": null,
      "metadata": {
        "id": "7nu9S3vPPmeM"
      },
      "outputs": [],
      "source": [
        "s1 = set([1, 2, 3, 4, 5, 6])\n",
        "s2 = set([4, 5, 6, 7, 8, 9])"
      ]
    },
    {
      "cell_type": "markdown",
      "metadata": {
        "id": "CY8UUroiPP2N"
      },
      "source": [
        "### Intersection (교집합)"
      ]
    },
    {
      "cell_type": "code",
      "execution_count": null,
      "metadata": {
        "id": "atqXmxWvPvaK",
        "colab": {
          "base_uri": "https://localhost:8080/"
        },
        "outputId": "fb46b5d4-dc12-4b13-e9bb-2d942c20af8e"
      },
      "outputs": [
        {
          "output_type": "execute_result",
          "data": {
            "text/plain": [
              "{4, 5, 6}"
            ]
          },
          "metadata": {},
          "execution_count": 84
        }
      ],
      "source": [
        "# Using '&' symbol\n",
        "s1 & s2\n",
        "\n",
        "# Using '.intersection()' function\n",
        "#s1.intersection(s2)"
      ]
    },
    {
      "cell_type": "markdown",
      "metadata": {
        "id": "BWfVTYtJPSUj"
      },
      "source": [
        "### Union (합집합)"
      ]
    },
    {
      "cell_type": "code",
      "execution_count": null,
      "metadata": {
        "id": "Tf_Of2FFP5wY",
        "colab": {
          "base_uri": "https://localhost:8080/"
        },
        "outputId": "285bae31-6b76-461d-d2d7-4c58e3af0fe6"
      },
      "outputs": [
        {
          "output_type": "execute_result",
          "data": {
            "text/plain": [
              "{1, 2, 3, 4, 5, 6, 7, 8, 9}"
            ]
          },
          "metadata": {},
          "execution_count": 85
        }
      ],
      "source": [
        "# Using '|' symbol\n",
        "s1 | s2\n",
        "\n",
        "# Using '.union()' function\n",
        "#s1.union(s2)"
      ]
    },
    {
      "cell_type": "markdown",
      "metadata": {
        "id": "hmzeHriOPSYF"
      },
      "source": [
        "### Difference (차집합)"
      ]
    },
    {
      "cell_type": "code",
      "execution_count": null,
      "metadata": {
        "id": "SQWWht9iQEzy",
        "colab": {
          "base_uri": "https://localhost:8080/"
        },
        "outputId": "3f7b983c-c745-41d2-a56f-75f98d5d97f3"
      },
      "outputs": [
        {
          "output_type": "execute_result",
          "data": {
            "text/plain": [
              "{7, 8, 9}"
            ]
          },
          "metadata": {},
          "execution_count": 86
        }
      ],
      "source": [
        "# Using '-' symbol\n",
        "s1 - s2\n",
        "\n",
        "# Using '.difference()' function\n",
        "s1.difference(s2)\n",
        "\n",
        "\n",
        "\n",
        "# Using '-' symbol\n",
        "s2 - s1\n",
        "\n",
        "# Using '.difference()' function\n",
        "s2.difference(s1)"
      ]
    },
    {
      "cell_type": "markdown",
      "metadata": {
        "id": "DBno81ivRvhU"
      },
      "source": [
        "### Fundamental functions"
      ]
    },
    {
      "cell_type": "markdown",
      "metadata": {
        "id": "NRmADp4GRyj2"
      },
      "source": [
        "**값 1개 추가하기(add)**"
      ]
    },
    {
      "cell_type": "code",
      "execution_count": null,
      "metadata": {
        "id": "FM7-JNJyRyqJ",
        "colab": {
          "base_uri": "https://localhost:8080/"
        },
        "outputId": "792507ae-fcf0-422b-8ba9-a1e1bbebe1d1"
      },
      "outputs": [
        {
          "output_type": "execute_result",
          "data": {
            "text/plain": [
              "{(8,), 1, 2, 3}"
            ]
          },
          "metadata": {},
          "execution_count": 100
        }
      ],
      "source": [
        "s1 = set([1, 2, 3])\n",
        "s1.add( (8,) )\n",
        "s1"
      ]
    },
    {
      "cell_type": "markdown",
      "metadata": {
        "id": "i8VS83QkRy24"
      },
      "source": [
        "**값 여러 개 추가하기(update)**"
      ]
    },
    {
      "cell_type": "code",
      "execution_count": null,
      "metadata": {
        "id": "RkqQzwypRzAm",
        "colab": {
          "base_uri": "https://localhost:8080/"
        },
        "outputId": "13206789-fcec-420c-e65c-9a835a5bc71d"
      },
      "outputs": [
        {
          "output_type": "execute_result",
          "data": {
            "text/plain": [
              "{1, 2, 3, 4, 5, 6}"
            ]
          },
          "metadata": {},
          "execution_count": 98
        }
      ],
      "source": [
        "s1 = set([1, 2, 3])\n",
        "s1.update([4, 5, 6])\n",
        "s1"
      ]
    },
    {
      "cell_type": "markdown",
      "metadata": {
        "id": "EhPYKaJKRzRQ"
      },
      "source": [
        "**특정 값 제거하기(remove)**"
      ]
    },
    {
      "cell_type": "code",
      "execution_count": null,
      "metadata": {
        "id": "OEHRk5VORzYm",
        "colab": {
          "base_uri": "https://localhost:8080/"
        },
        "outputId": "77889dc2-7169-478a-8c11-7b754801a494"
      },
      "outputs": [
        {
          "output_type": "execute_result",
          "data": {
            "text/plain": [
              "{1, 3}"
            ]
          },
          "metadata": {},
          "execution_count": 101
        }
      ],
      "source": [
        "s1 = set([1, 2, 3])\n",
        "s1.remove(2)\n",
        "s1"
      ]
    },
    {
      "cell_type": "markdown",
      "metadata": {
        "id": "6YtYdoiNwT-8"
      },
      "source": [
        "### Try It!\n",
        "\n"
      ]
    },
    {
      "cell_type": "markdown",
      "metadata": {
        "id": "I66Dmsxvwai5"
      },
      "source": [
        "1, 123, 30, 290, 2930, 3903, 123, 345, 2322, 188, 1, 8, 182, 30, 390, 290, 1, 30에서 세 번째로 작은 숫자를 찾으시오."
      ]
    },
    {
      "cell_type": "code",
      "execution_count": 86,
      "metadata": {
        "id": "ZN_knbjswao0",
        "colab": {
          "base_uri": "https://localhost:8080/"
        },
        "outputId": "e8043a5e-4a03-4aca-d3dc-ed4e9a87b837"
      },
      "outputs": [
        {
          "output_type": "execute_result",
          "data": {
            "text/plain": [
              "{1, 8, 30, 123, 182, 188, 290, 345, 390, 2322, 2930, 3903}"
            ]
          },
          "metadata": {},
          "execution_count": 86
        }
      ],
      "source": [
        "s1 = set([1, 123, 30, 290, 2930, 3903, 123, 345, 2322, 188, 1, 8, 182, 30, 390, 290, 1, 30])\n",
        "s2 = set([1, 123, 30, 290, 2930, 3903, 123, 345, 2322, 188, 1, 8, 182, 30, 390, 290, 1, 30])\n",
        "s1 | s2"
      ]
    },
    {
      "cell_type": "markdown",
      "metadata": {
        "id": "ulNqG-JNNx6G"
      },
      "source": [
        "## 5.Bool"
      ]
    },
    {
      "cell_type": "markdown",
      "metadata": {
        "id": "xJWSIRsWTmVf"
      },
      "source": [
        "불(bool) 자료형이란 참(True)과 거짓(False)을 나타내는 자료형이다. 불 자료형은 다음 2가지 값만을 가질 수 있다."
      ]
    },
    {
      "cell_type": "markdown",
      "metadata": {
        "id": "iQymKGJZTn4T"
      },
      "source": [
        "- True - 참\n",
        "- False - 거짓"
      ]
    },
    {
      "cell_type": "code",
      "execution_count": 118,
      "metadata": {
        "id": "IR21bJv_NyAN",
        "colab": {
          "base_uri": "https://localhost:8080/"
        },
        "outputId": "e7cb8878-2a5f-4ddb-a76d-a1d8bb8ee1b6"
      },
      "outputs": [
        {
          "output_type": "execute_result",
          "data": {
            "text/plain": [
              "bool"
            ]
          },
          "metadata": {},
          "execution_count": 118
        }
      ],
      "source": [
        "a = True\n",
        "\n",
        "b = False\n",
        "\n",
        "# type(x)는 x의 자료형을 확인하는 Python built-in function이다.\n",
        "type(a)\n",
        "\n",
        "# type(b)\n",
        "\n",
        "# type(19)"
      ]
    },
    {
      "cell_type": "markdown",
      "metadata": {
        "id": "bq-EpHSiT53I"
      },
      "source": [
        "불 자료형은 조건문의 리턴 값으로도 사용된다. 조건문에 대해서는 다음 주에 자세히 배우겠지만 잠시 살펴보고 넘어가자."
      ]
    },
    {
      "cell_type": "code",
      "execution_count": 120,
      "metadata": {
        "id": "S3lFNtINT94u",
        "colab": {
          "base_uri": "https://localhost:8080/"
        },
        "outputId": "bd7f77e4-12f4-474d-939b-9216b9303e1a"
      },
      "outputs": [
        {
          "output_type": "execute_result",
          "data": {
            "text/plain": [
              "False"
            ]
          },
          "metadata": {},
          "execution_count": 120
        }
      ],
      "source": [
        "1 == 1\n",
        "2 > 1\n",
        "2 < 1\n",
        "19 == '19'\n",
        "True == 0"
      ]
    },
    {
      "cell_type": "markdown",
      "metadata": {
        "id": "UZCUZ4drUJ33"
      },
      "source": [
        "![image.png](data:image/png;base64,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)\n",
        "\n",
        "문자열, 리스트, 튜플, 딕셔너리 등의 값이 비어 있으면(\" \", [ ], ( ), { }) 거짓이 된다.\n",
        "\n",
        "당연히 비어있지 않으면 참이 된다.\n",
        "\n",
        "숫자에서는 그 값이 0일 때 거짓이 된다"
      ]
    },
    {
      "cell_type": "markdown",
      "metadata": {
        "id": "RMpMo6bkUeHp"
      },
      "source": [
        "### Boolean operation"
      ]
    },
    {
      "cell_type": "markdown",
      "metadata": {
        "id": "ZHXWTpcaUkbB"
      },
      "source": [
        "자료형에 참과 거짓이 있음을 이제 알게 되었다. bool 함수를 사용하면 자료형의 참과 거짓을 보다 정확하게 식별할 수 있다.\n",
        "\n",
        "다음 예제를 따라 해 보자."
      ]
    },
    {
      "cell_type": "code",
      "execution_count": 89,
      "metadata": {
        "id": "claDGSQ0Ujax",
        "colab": {
          "base_uri": "https://localhost:8080/"
        },
        "outputId": "775d826d-7553-417d-893e-93c6a1b4b55d"
      },
      "outputs": [
        {
          "output_type": "execute_result",
          "data": {
            "text/plain": [
              "True"
            ]
          },
          "metadata": {},
          "execution_count": 89
        }
      ],
      "source": [
        "bool('python')"
      ]
    },
    {
      "cell_type": "markdown",
      "metadata": {
        "id": "UkjAXeNpUmy8"
      },
      "source": [
        "'python' 문자열은 빈 문자열이 아니므로 bool 연산의 결과로 불 자료형인 True를 리턴한다."
      ]
    },
    {
      "cell_type": "code",
      "execution_count": 90,
      "metadata": {
        "id": "yiVabGl6UhBz",
        "colab": {
          "base_uri": "https://localhost:8080/"
        },
        "outputId": "dc40bca6-3f5b-4006-9501-dcb7e904150a"
      },
      "outputs": [
        {
          "output_type": "execute_result",
          "data": {
            "text/plain": [
              "False"
            ]
          },
          "metadata": {},
          "execution_count": 90
        }
      ],
      "source": [
        "bool('')"
      ]
    },
    {
      "cell_type": "code",
      "execution_count": null,
      "metadata": {
        "id": "EmgovLk7UrA0"
      },
      "outputs": [],
      "source": [
        "# Playground\n",
        "\n",
        "\n",
        "\n"
      ]
    },
    {
      "cell_type": "markdown",
      "metadata": {
        "id": "4KgFLj6tUqPW"
      },
      "source": [
        "### Try it!"
      ]
    },
    {
      "cell_type": "markdown",
      "metadata": {
        "id": "V699Jx5wUwzI"
      },
      "source": [
        "3.Dictionary 파트의 Try It!에서 만들었던 dictionary를 그대로 가져오고, 자신의 키가 180cm보다 큰지 확인하시오."
      ]
    },
    {
      "cell_type": "code",
      "execution_count": 138,
      "metadata": {
        "id": "aJzIyLpGUxCX",
        "colab": {
          "base_uri": "https://localhost:8080/"
        },
        "outputId": "0949a401-7eb5-4480-eb49-a3a6c8b88c0b"
      },
      "outputs": [
        {
          "output_type": "execute_result",
          "data": {
            "text/plain": [
              "True"
            ]
          },
          "metadata": {},
          "execution_count": 138
        }
      ],
      "source": [
        "a = {'키':'174cm', '몸무게':'55kg', '나이':'15세', '학년': '중3'}\n",
        "a = {'키':'180cm'}\n",
        "bool('키')"
      ]
    },
    {
      "cell_type": "markdown",
      "metadata": {
        "id": "lzD5qY4INhqP"
      },
      "source": [
        "# Homework"
      ]
    },
    {
      "cell_type": "markdown",
      "metadata": {
        "id": "rtmlbU0JCq8z"
      },
      "source": [
        "Q2. Palindrome이란, ```Madam, I'm Adam.```이나 ```nurses run```과 같이 거꾸로 읽어도 제대로 읽는 것과 같은 것을 말한다.\n",
        "\n",
        "그러나, python에서의 palindrome은 ``` `  M.ada.M  ` ```과 같이 좀 더 좁은 개념으로, 띄어쓰기나 . 등의 기호 모두 symmetrical이어야 한다.\n",
        "\n",
        "<br>\n",
        "<br>\n",
        "\n",
        " ```'Xiplisalsjdk akfsLksi iskLsfka kdjslasilpiX'```라는 string이 palindrome일 때, 이를 validate하는 코드를 두 가지 다른 방법으로 작성하시오.\n",
        "\n",
        " - palindrome이면 True, 아니면 False를 print\n",
        " - Manual counting is banned in any case.\n",
        " - Both approaches must involve slicing skill."
      ]
    },
    {
      "cell_type": "code",
      "execution_count": null,
      "metadata": {
        "id": "S9IJh3kpEBYt"
      },
      "outputs": [],
      "source": [
        "S = 'Xiplisalsjdk akfsLksi iskLsfka kdjslasilpiX'"
      ]
    },
    {
      "cell_type": "markdown",
      "metadata": {
        "id": "lplR6av6DV6G"
      },
      "source": [
        "Approach 1"
      ]
    },
    {
      "cell_type": "code",
      "execution_count": 159,
      "metadata": {
        "colab": {
          "base_uri": "https://localhost:8080/"
        },
        "id": "Y1AgIFqGCrBr",
        "outputId": "0609921b-ce86-49ae-a3f3-c832ee2f799c"
      },
      "outputs": [
        {
          "output_type": "execute_result",
          "data": {
            "text/plain": [
              "False"
            ]
          },
          "metadata": {},
          "execution_count": 159
        }
      ],
      "source": [
        "# Write further codes\n",
        "S = 'Xiplisalsjdk akfsLksi iskLsfka kdjslasilpiX'\n",
        "\n",
        "S == S[::-1]\n",
        "\n",
        "\n",
        "# Print the validation result as a boolean type\n",
        "S = ['Xiplisalsjdk akfsLksi iskLsfka kdjslasilpiX']\n",
        "\n",
        "bool(S == S.reverse())"
      ]
    },
    {
      "cell_type": "markdown",
      "metadata": {
        "id": "yzYkysiEDWm1"
      },
      "source": [
        "Approach 2 - advanced\n",
        "\n",
        "* Hint : Slicing 기법 중, **step size**를 조절하는 것이 있었다. Reverse function의 기능을 step size를 통해서 대신할 수 있을지도 ..?\n",
        "\n",
        "* 즉, Forward -> Backward?\n",
        "\n",
        "* Using reverse function is banned."
      ]
    },
    {
      "cell_type": "code",
      "execution_count": null,
      "metadata": {
        "id": "79ZF3YgAwoIc"
      },
      "outputs": [],
      "source": [
        "s = 'sadfsadfjsdia;fjklsda'\n",
        "\n",
        "\n",
        "length = len(s)\n",
        "\n",
        "a = s[:(length // 2) ]"
      ]
    },
    {
      "cell_type": "code",
      "execution_count": 180,
      "metadata": {
        "id": "3z2Zkc1JEDwo",
        "colab": {
          "base_uri": "https://localhost:8080/",
          "height": 35
        },
        "outputId": "2be96bfb-aa6c-47af-b010-7e84d1956fd5"
      },
      "outputs": [
        {
          "output_type": "execute_result",
          "data": {
            "text/plain": [
              "'Xiplisalsjdk akfsLksi'"
            ],
            "application/vnd.google.colaboratory.intrinsic+json": {
              "type": "string"
            }
          },
          "metadata": {},
          "execution_count": 180
        }
      ],
      "source": [
        "# Write further codes\n",
        "S = 'Xiplisalsjdk akfsLksi iskLsfka kdjslasilpiX'\n",
        "\n",
        "S == S[::-1]\n",
        "\n",
        "# Print the validation result as a boolean type\n",
        "S[:len(S) // 2:1]\n"
      ]
    },
    {
      "cell_type": "markdown",
      "metadata": {
        "id": "JuzBgrUICZCC"
      },
      "source": [
        "***Challenging problem !***"
      ]
    },
    {
      "cell_type": "markdown",
      "metadata": {
        "id": "gF3Rewo0IjlQ"
      },
      "source": [
        "Q3. Python에는, ```map(func, li)```의 꼴로 사용했을때, ```func```라는 함수를 ```li```라는 리스트에 element-wise로 적용시키는 함수가 있다.\n",
        "\n",
        "<br><br>\n",
        "\n",
        "======================================================================\n",
        "\n",
        "예를 들어서, ```[ [1, 2], [2, 3, 4], [6, 10, 8] ]```이라는 nested list가 있다.\n",
        "\n",
        "이 nested list의 each element또한 list이므로, len()함수를 적용할 수 있다.\n",
        "\n",
        "<br>\n",
        "\n",
        "따라서, ```x = map(len, [ [1, 2], [2, 3, 4], [6, 10, 8] ])```을 작성한 뒤 ```print(list(x))```를 실행시키면, ```[2, 3, 3]``` (nested list의 element에 해당하는 list의 length들)라는 결과가 나온다.\n",
        "\n",
        "\n",
        "* x에 list() - ()안의 무언가를 리스트로 만들어주는 - 라는 함수를 사용한 이유는, map 함수는 결과를 list가 아닌 '비슷한 무언가'로 return하기 때문이다 (다음 주에 배울 것이니 알고만 있으면 된다).\n",
        "\n",
        "\n",
        "\n",
        "<br>\n",
        "\n",
        "(map 함수에 대한 더욱 설명은, [이 링크](https://dojang.io/mod/page/view.php?id=2286)를 클릭하거나, 구글에 'map function in python'로 검색하여 찾아보시오.)\n",
        "\n",
        "======================================================================\n"
      ]
    },
    {
      "cell_type": "markdown",
      "metadata": {
        "id": "wTjl9O9JL8t-"
      },
      "source": [
        "\n",
        "\n",
        "\n",
        "<br><br><br>"
      ]
    },
    {
      "cell_type": "markdown",
      "metadata": {
        "id": "jWlDMUKtU3Qj"
      },
      "source": [
        "다음과 같은 dictionary가 원소인 list가 주어진다고 하자:"
      ]
    },
    {
      "cell_type": "code",
      "execution_count": null,
      "metadata": {
        "id": "ZeTRSrsdU3Xg"
      },
      "outputs": [],
      "source": [
        "Justin_and_Jun = [ {'Justin' : 'smart', 'Jun' : 'foolish'}, {'Justin' : 'young', 'Jun' : 'old'}]"
      ]
    },
    {
      "cell_type": "markdown",
      "metadata": {
        "id": "4o99ndsoLa-s"
      },
      "source": [
        "이 때, ```[['smart', 'foolish'], ['young', 'old']]```의 형태로 dictionary의 value들을 분리하여 extract하고 싶다."
      ]
    },
    {
      "cell_type": "markdown",
      "metadata": {
        "id": "AKInAaKhMAle"
      },
      "source": [
        "하지만, len()처럼 생긴 함수가 아닌 .randomFunc()같은 함수는, ```map(len, randomList)```이 가능한 것과 달리 ```map(randomFunc, randomList)```의 형태로 사용할 수가 없다.\n",
        "\n",
        "대신, ```map(lambda x : x.randomFunc(), randomList)```의 형태로 사용해야한다.\n",
        "\n",
        " - lambda 뒤에 붙은 변수 x는, 앞으로 randomList의 each element를 의미하며, 그 각각에 .randomFunc()를 적용시켜 list를 만드는 것으로 볼 수 있다.\n",
        "\n",
        " - Python Map Lambda라는 키워드로 googling해볼 수 있을 것이다."
      ]
    },
    {
      "cell_type": "markdown",
      "metadata": {
        "id": "aD5mLwc-N2l_"
      },
      "source": [
        "<br><br><br>```Justin_and_Jun``` 리스트로부터, 정확히 ```[['smart', 'foolish'], ['young', 'old']]```를 print하는 코드를, one-liner로 작성하시오."
      ]
    },
    {
      "cell_type": "code",
      "execution_count": null,
      "metadata": {
        "colab": {
          "base_uri": "https://localhost:8080/"
        },
        "id": "XBBGW3SkIBRY",
        "outputId": "a1263a20-d016-4cd4-d2ac-4fa0dcef4ed8"
      },
      "outputs": [
        {
          "data": {
            "text/plain": [
              "[['smart', 'foolish'], ['young', 'old']]"
            ]
          },
          "execution_count": 7,
          "metadata": {},
          "output_type": "execute_result"
        }
      ],
      "source": [
        "# One-liner solution\n"
      ]
    }
  ],
  "metadata": {
    "colab": {
      "provenance": [],
      "toc_visible": true
    },
    "kernelspec": {
      "display_name": "Python 3",
      "name": "python3"
    },
    "language_info": {
      "name": "python"
    }
  },
  "nbformat": 4,
  "nbformat_minor": 0
}