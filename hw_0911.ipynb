{
 "cells": [
  {
   "cell_type": "code",
   "execution_count": 1,
   "id": "d3cd7d1d",
   "metadata": {},
   "outputs": [],
   "source": [
    "import heapq\n",
    "\n",
    "def dijkstra(graph, start):\n",
    "    D = {vertex: float('inf') for vertex in graph}\n",
    "    P = {vertex: None for vertex in graph}\n",
    "    D[start]  = 0\n",
    "\n",
    "    queue = [(0,start)]\n",
    "\n",
    "    while queue:\n",
    "        current_distance, u = heapq.heappop(queue)\n",
    "\n",
    "        if current_distance > D[u]:\n",
    "            continue\n",
    "        for v, weight in graph[u].items():\n",
    "            if D[u] + weight < D[v]:\n",
    "                D[v] = D[u] + weight\n",
    "                D[v] = u\n",
    "                heapq.heappush(queue,(D[v],v))\n",
    "\n",
    "    return D,P"
   ]
  },
  {
   "cell_type": "code",
   "execution_count": 2,
   "id": "9dd47791",
   "metadata": {},
   "outputs": [],
   "source": [
    "import heapq\n",
    "\n",
    "def dijkstra(graph,start):\n",
    "    D = {vertex: float('inf') for vertex in graph}\n",
    "    P = {vertex: None for vertex in graph}\n",
    "    D[start]  = 0\n",
    "    \n",
    "    queue = [(0,start)]\n",
    "\n",
    "    while queue:\n",
    "        current_distance, u = heapq.heappop(queue)\n",
    "\n",
    "        if current_distance > D[u]:\n",
    "            continue\n",
    "        for v, weight in graph[u].items():\n",
    "            if D[u] + weight < D[v]:\n",
    "                D[v] = D[u] + weight\n",
    "                D[v] = u\n",
    "                heapq.heappush(queue,(D[v],v))\n",
    "\n",
    "    return D,P"
   ]
  },
  {
   "cell_type": "code",
   "execution_count": 3,
   "id": "0d57916b",
   "metadata": {},
   "outputs": [],
   "source": [
    "import heapq\n",
    "\n",
    "def dijkstra(graph,start):\n",
    "    D = {vertex: float('inf') for vertex in graph}\n",
    "    P = {vertex: None for vertex in graph}\n",
    "    D[start] = 0\n",
    "\n",
    "    queue = [(0,start)]\n",
    "\n",
    "    while queue:\n",
    "        current_distance, u = heapq.heappop(queue)\n",
    "\n",
    "        if current_distance > D[u]:\n",
    "            continue\n",
    "        \n",
    "        for v, weight in graph[u].items():\n",
    "            if D[u] + weight < D[v]:\n",
    "                D[v] = D[u] + weight\n",
    "                D[v] = u\n",
    "                heapq.heappush(queue,(D[v],v))\n",
    "    \n",
    "    return D,P"
   ]
  },
  {
   "cell_type": "code",
   "execution_count": null,
   "id": "dafb2056",
   "metadata": {},
   "outputs": [],
   "source": []
  }
 ],
 "metadata": {
  "kernelspec": {
   "display_name": "Python 3",
   "language": "python",
   "name": "python3"
  },
  "language_info": {
   "codemirror_mode": {
    "name": "ipython",
    "version": 3
   },
   "file_extension": ".py",
   "mimetype": "text/x-python",
   "name": "python",
   "nbconvert_exporter": "python",
   "pygments_lexer": "ipython3",
   "version": "3.11.9"
  }
 },
 "nbformat": 4,
 "nbformat_minor": 5
}
