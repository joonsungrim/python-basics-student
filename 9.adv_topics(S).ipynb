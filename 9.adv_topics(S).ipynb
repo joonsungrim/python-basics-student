{
 "cells": [
  {
   "cell_type": "markdown",
   "metadata": {
    "id": "ZvLdqHYpNnFl"
   },
   "source": [
    "# Week 9 : Advanced Topics #2 - Iterators, Generators, Comprehensions and Lambda Expressions"
   ]
  },
  {
   "cell_type": "markdown",
   "metadata": {
    "id": "pVIbJDqDNw-_"
   },
   "source": [
    "**Goal 1** : 표면적으로만 이해해왔던 Iterator와 Generator를 공부해보자.\n",
    "\n",
    "**Goal 2** : 중급자가 되기 위해서 필수로 알아야 하는, Comprehension과 Lambda Expression을 알아보자."
   ]
  },
  {
   "cell_type": "markdown",
   "metadata": {
    "id": "sdxx4caRu0j8"
   },
   "source": [
    "🎉 Congratulations! 🎉\n",
    "\n",
    "Advanced topics도 오늘로 끝이다.\n",
    "\n",
    "이제는 적어도, 어디에 가서 \"Python에 대해서 안다\"라고 당당하게 말할 수 있게 되었다.\n",
    "\n",
    "<br><br>장담하건대, Week 1 ~ Week 11에서 다루지 않은 내용은 실제 상황에서 거의 사용하지 않거나, google에 조금만 검색하면 쉽게 알 수 있는 것들이다.\n",
    "\n",
    "자신감을 갖고, 미래에 큰 도약이 될 미세한 실력 차이를 오늘 만들어보자."
   ]
  },
  {
   "cell_type": "markdown",
   "metadata": {
    "id": "xjRfe_FdS5J_"
   },
   "source": [
    "## 1. Iterator"
   ]
  },
  {
   "cell_type": "markdown",
   "metadata": {
    "id": "HYsbrLH2Thkl"
   },
   "source": [
    "Iterator는 지금까지 수업을 하면서 꽤 자주 등장했던 개념이다.\n",
    "\n",
    "특히 for loop를 설명할 때, in 뒤에 iterable한 data type이 나와야한다고 강조했었다.\n",
    "\n",
    "어렴풋이는 알고 있을 iterator의 개념을 완벽하게 정립해보자."
   ]
  },
  {
   "cell_type": "markdown",
   "metadata": {
    "id": "Aqq-C1hBThJa"
   },
   "source": [
    "다음은 늘 사용하던 리스트의 간단한 사용법이다."
   ]
  },
  {
   "cell_type": "code",
   "execution_count": 1,
   "metadata": {
    "id": "IepW2Q-xT3xt"
   },
   "outputs": [
    {
     "name": "stdout",
     "output_type": "stream",
     "text": [
      "1\n",
      "2\n",
      "3\n"
     ]
    }
   ],
   "source": [
    "for a in [1, 2, 3]:\n",
    "    print(a)"
   ]
  },
  {
   "cell_type": "code",
   "execution_count": 2,
   "metadata": {},
   "outputs": [
    {
     "name": "stdout",
     "output_type": "stream",
     "text": [
      "4\n",
      "5\n",
      "6\n"
     ]
    }
   ],
   "source": [
    "for b in [4,5,6]:\n",
    "    print(b)"
   ]
  },
  {
   "cell_type": "markdown",
   "metadata": {
    "id": "uht3x75RT5ZA"
   },
   "source": [
    "리스트 [1, 2, 3] 을 for문으로 차례대로 하나씩 출력하는 예제이다. 이렇게 for문과 같은 반복 구문을 적용할 수 있는 리스트와 같은 객체를 반복 가능(iterable) 객체라 한다."
   ]
  },
  {
   "cell_type": "markdown",
   "metadata": {
    "id": "waobshB1T7qq"
   },
   "source": [
    "### What is iterator?"
   ]
  },
  {
   "cell_type": "markdown",
   "metadata": {
    "id": "reqIblwRT-0k"
   },
   "source": [
    "이터레이터(iterator)란 무엇일까\n",
    "\n",
    "이터레이터는 **next() 함수 호출 시 계속 그다음 값을 리턴하는 객체**이다. 리스트는 반복 가능(iterable)하다는 것을 이미 알아보았다. \n",
    "\n",
    "그렇다면 리스트는 이터레이터일까? 다음과 같이 확인해 보자."
   ]
  },
  {
   "cell_type": "code",
   "execution_count": 3,
   "metadata": {
    "id": "7fwLI2NcUBIK"
   },
   "outputs": [
    {
     "ename": "TypeError",
     "evalue": "'list' object is not an iterator",
     "output_type": "error",
     "traceback": [
      "\u001b[1;31m---------------------------------------------------------------------------\u001b[0m",
      "\u001b[1;31mTypeError\u001b[0m                                 Traceback (most recent call last)",
      "Cell \u001b[1;32mIn[3], line 2\u001b[0m\n\u001b[0;32m      1\u001b[0m a \u001b[38;5;241m=\u001b[39m [\u001b[38;5;241m1\u001b[39m, \u001b[38;5;241m2\u001b[39m, \u001b[38;5;241m3\u001b[39m]\n\u001b[1;32m----> 2\u001b[0m \u001b[38;5;28;43mnext\u001b[39;49m\u001b[43m(\u001b[49m\u001b[43ma\u001b[49m\u001b[43m)\u001b[49m\n",
      "\u001b[1;31mTypeError\u001b[0m: 'list' object is not an iterator"
     ]
    }
   ],
   "source": [
    "a = [1, 2, 3]\n",
    "next(a)"
   ]
  },
  {
   "cell_type": "markdown",
   "metadata": {
    "id": "0moT1dl2T-4t"
   },
   "source": [
    "a라는 리스트로 next() 함수를 호출했더니, 리스트는 이터레이터 객체가 아니라는 오류가 발생한다.\n",
    "\n",
    "즉, 반복 가능하다고 해서 이터레이터는 아니라는 말이다. 하지만, 반복 가능하다면 다음과 같이 **iter()** 함수를 이용하여 이터레이터로 만들 수 있다."
   ]
  },
  {
   "cell_type": "code",
   "execution_count": 4,
   "metadata": {
    "id": "fzY4490oUDlt"
   },
   "outputs": [
    {
     "data": {
      "text/plain": [
       "list_iterator"
      ]
     },
     "execution_count": 4,
     "metadata": {},
     "output_type": "execute_result"
    }
   ],
   "source": [
    "a = [1, 2, 3]\n",
    "ia = iter(a)\n",
    "\n",
    "type(ia)"
   ]
  },
  {
   "cell_type": "code",
   "execution_count": 5,
   "metadata": {},
   "outputs": [
    {
     "data": {
      "text/plain": [
       "list_iterator"
      ]
     },
     "execution_count": 5,
     "metadata": {},
     "output_type": "execute_result"
    }
   ],
   "source": [
    "b = [4,5,6]\n",
    "ib = iter(b)\n",
    "\n",
    "type(ib)"
   ]
  },
  {
   "cell_type": "markdown",
   "metadata": {
    "id": "5nPVscHfUFKS"
   },
   "source": [
    "이제 리스트를 이터레이터로 변경했으므로 next() 함수를 호출해 보자."
   ]
  },
  {
   "cell_type": "code",
   "execution_count": 6,
   "metadata": {
    "id": "MQP-iDKMUGXW"
   },
   "outputs": [
    {
     "data": {
      "text/plain": [
       "1"
      ]
     },
     "execution_count": 6,
     "metadata": {},
     "output_type": "execute_result"
    }
   ],
   "source": [
    "next(ia)\n",
    "\n",
    "# Run the code above repeatedly"
   ]
  },
  {
   "cell_type": "code",
   "execution_count": 7,
   "metadata": {},
   "outputs": [
    {
     "data": {
      "text/plain": [
       "4"
      ]
     },
     "execution_count": 7,
     "metadata": {},
     "output_type": "execute_result"
    }
   ],
   "source": [
    "next(ib)"
   ]
  },
  {
   "cell_type": "markdown",
   "metadata": {
    "id": "cNp9cRVHUHQZ"
   },
   "source": [
    "next() 함수를 호출할 때마다 이터레이터 객체의 요소를 차례대로 리턴하는 것을 확인할 수 있다. <br><br>하지만, 더는 리턴할 값이 없다면 StopIteration 예외가 발생한다. 이터레이터의 값을 가져오는 가장 일반적인 방법은 다음과 같이 for문을 이용하는 것이다."
   ]
  },
  {
   "cell_type": "code",
   "execution_count": 10,
   "metadata": {
    "id": "orfe68Z0UIfs"
   },
   "outputs": [
    {
     "name": "stdout",
     "output_type": "stream",
     "text": [
      "1\n",
      "2\n",
      "3\n"
     ]
    }
   ],
   "source": [
    "a = [1, 2, 3]\n",
    "ia = iter(a)\n",
    "\n",
    "for i in ia:\n",
    "  print(i)"
   ]
  },
  {
   "cell_type": "code",
   "execution_count": 18,
   "metadata": {},
   "outputs": [
    {
     "name": "stdout",
     "output_type": "stream",
     "text": [
      "4\n",
      "5\n",
      "6\n"
     ]
    }
   ],
   "source": [
    "b = [4,5,6]\n",
    "ib = iter(b)\n",
    "\n",
    "for i in ib:\n",
    "    print(i)"
   ]
  },
  {
   "cell_type": "markdown",
   "metadata": {
    "id": "p11f5JHCUJtw"
   },
   "source": [
    "for문을 이용하면 next() 함수를 따로 호출할 필요도 없고(for문이 자동으로 호출) StopIteration 예외에 신경 쓸 필요도 없다. 이번에는 다음과 같은 예를 보자."
   ]
  },
  {
   "cell_type": "code",
   "execution_count": 13,
   "metadata": {
    "id": "gkBFu9rDULde"
   },
   "outputs": [
    {
     "name": "stdout",
     "output_type": "stream",
     "text": [
      "1\n",
      "2\n",
      "3\n"
     ]
    }
   ],
   "source": [
    "a = [1, 2, 3]\n",
    "ia = iter(a)\n",
    "\n",
    "for i in ia:\n",
    "    print(i)\n",
    "\n",
    "for i in ia:\n",
    "    print(i)"
   ]
  },
  {
   "cell_type": "code",
   "execution_count": 16,
   "metadata": {},
   "outputs": [
    {
     "name": "stdout",
     "output_type": "stream",
     "text": [
      "4\n",
      "5\n",
      "6\n"
     ]
    }
   ],
   "source": [
    "b = [4,5,6]\n",
    "ib = iter(b)\n",
    "\n",
    "for i in ib:\n",
    "    print(i)\n",
    "\n",
    "for i in ib:\n",
    "    print(i)"
   ]
  },
  {
   "cell_type": "markdown",
   "metadata": {
    "id": "NyfqO5UdUMXy"
   },
   "source": [
    "이처럼 이터레이터는 for문을 이용하여 반복하고 난 후에는, 다시 반복하더라도 더는 그 값을 가져오지 못한다. 즉, **next()로 그 값을 한 번 읽으면 그 값을 다시는 읽을 수 없다**는 특징이 있다."
   ]
  },
  {
   "cell_type": "markdown",
   "metadata": {
    "id": "O2n4Ok7zUth_"
   },
   "source": [
    "### (Advanced) Iterator 만들기"
   ]
  },
  {
   "cell_type": "markdown",
   "metadata": {
    "id": "aNiu1lZEUwez"
   },
   "source": [
    "iter() 함수를 이용하면 리스트를 이터레이터로 만들 수 있었다. 이번에는 iter() 함수를 이용하지 말고 직접 이터레이터를 만드는 방법을 알아보자.\n",
    "\n",
    "이터레이터는 클래스에 __iter__와 __next__라는 두 개의 메서드를 구현하면 만들 수 있다. 다음 예를 살펴보자."
   ]
  },
  {
   "cell_type": "markdown",
   "metadata": {
    "id": "Slynsv_cIOoS"
   },
   "source": [
    "> 이 개념은, 추후 python data structure 코스를 듣게 된다면 배울 Linked List를 구현할때 아주 x 1000000 많이 쓰는 개념이다."
   ]
  },
  {
   "cell_type": "code",
   "execution_count": 19,
   "metadata": {
    "id": "II4O_AgRUxUO"
   },
   "outputs": [
    {
     "name": "stdout",
     "output_type": "stream",
     "text": [
      "1\n",
      "2\n",
      "3\n"
     ]
    }
   ],
   "source": [
    "class MyIterator:\n",
    "    def __init__(self, data):\n",
    "        self.data = data\n",
    "        self.position = 0\n",
    "\n",
    "    def __iter__(self):\n",
    "        return self\n",
    "\n",
    "    def __next__(self):\n",
    "        if self.position >= len(self.data):\n",
    "\n",
    "            raise StopIteration\n",
    "            \n",
    "        result = self.data[self.position]\n",
    "        self.position += 1\n",
    "        return result\n",
    "\n",
    "\n",
    "if __name__ == \"__main__\":\n",
    "\n",
    "    i = MyIterator([1,2,3])\n",
    "\n",
    "    for item in i:\n",
    "        print(item)"
   ]
  },
  {
   "cell_type": "markdown",
   "metadata": {
    "id": "EkAP5kW0UzCU"
   },
   "source": [
    "MyIterator 클래스에는 이터레이터 객체를 생성하고자 __iter__ 메서드와 __next__ 메서드를 구현하였다.\n",
    "\n",
    " __iter__ 메서드는 이터레이터 객체를 리턴하는 메서드이므로, MyIterator 클래스에 의해 생성되는 객체를 의미하는 self를 리턴하도록 했다.\n",
    " \n",
    " __next__ 메서드는 next() 함수 호출 시 수행되므로 MyIterator 객체 생성 시 전달한 데이터를 하나씩 리턴하도록 하고, 더는 리턴할 값이 없으면 StopIteration 예외를 발생시키도록 구현했다.\n",
    "\n",
    "이 코드를 실행하면 다음과 같은 결과를 확인할 수 있다."
   ]
  },
  {
   "cell_type": "code",
   "execution_count": null,
   "metadata": {
    "id": "GFHoAFDdUz1L"
   },
   "outputs": [],
   "source": [
    "1\n",
    "2\n",
    "3"
   ]
  },
  {
   "cell_type": "markdown",
   "metadata": {
    "id": "uNzzL0R5U0yX"
   },
   "source": [
    "이번에는 입력받은 데이터를 역순으로 출력하는 ReverseIterator 클래스를 만들어 보자(설명은 앞의 MyIterator와 마찬가지이므로 생략한다)."
   ]
  },
  {
   "cell_type": "code",
   "execution_count": 20,
   "metadata": {
    "id": "Wz0jPKchU2BD"
   },
   "outputs": [
    {
     "name": "stdout",
     "output_type": "stream",
     "text": [
      "3\n",
      "2\n",
      "1\n"
     ]
    }
   ],
   "source": [
    "class ReverseIterator:\n",
    "    def __init__(self, data):\n",
    "        self.data = data\n",
    "        self.position = len(self.data) -1\n",
    "\n",
    "    def __iter__(self):\n",
    "        return self\n",
    "\n",
    "    def __next__(self):\n",
    "        if self.position < 0:\n",
    "            raise StopIteration\n",
    "        result = self.data[self.position]\n",
    "        self.position -= 1\n",
    "        return result\n",
    "\n",
    "\n",
    "if __name__ == \"__main__\":\n",
    "    i = ReverseIterator([1,2,3])\n",
    "    for item in i:\n",
    "        print(item)"
   ]
  },
  {
   "cell_type": "markdown",
   "metadata": {
    "id": "YN1VxVTZU3cK"
   },
   "source": [
    "이를 실행하면 다음과 같이 입력받은 데이터를 역순으로 출력한다."
   ]
  },
  {
   "cell_type": "code",
   "execution_count": null,
   "metadata": {
    "id": "RTu_Elq5U4pc"
   },
   "outputs": [],
   "source": [
    "3\n",
    "2\n",
    "1"
   ]
  },
  {
   "cell_type": "markdown",
   "metadata": {
    "id": "Mzcxt3XgS9Xa"
   },
   "source": [
    "## 2. Generator"
   ]
  },
  {
   "cell_type": "markdown",
   "metadata": {
    "id": "bcP9v9HRWmiv"
   },
   "source": [
    "### What is Generator?"
   ]
  },
  {
   "cell_type": "markdown",
   "metadata": {
    "id": "oYNaf-_rWqv4"
   },
   "source": [
    "보통 함수는 하나의 값을 리턴한다. 그 값은 정수, 리스트, 딕셔너리 등이 될 수 있다.\n",
    "\n",
    "> 그런데 만약 함수가 하나의 값을 리턴하는 것이 아니라 연속된 값을 차례대로 리턴할 수 있다면 어떨까? 이런 발상에서 나온 것이 바로 제너레이터(generator)이다.\n",
    "\n",
    "제너레이터는 이터레이터와 마찬가지로 next() 함수 호출 시 그 값을 차례대로 얻을 수 있다. 이때 제너레이터에서는 차례대로 결과를 리턴하고자 return 대신 yield 키워드를 사용한다.\n",
    "\n",
    "가장 간단한 제너레이터의 예를 살펴보자."
   ]
  },
  {
   "cell_type": "code",
   "execution_count": 39,
   "metadata": {
    "id": "3uNteuERWrqu"
   },
   "outputs": [],
   "source": [
    "def mygen():\n",
    "    yield 'a'\n",
    "    yield 'b'\n",
    "    yield 'c'\n",
    "\n",
    "g = mygen()"
   ]
  },
  {
   "cell_type": "code",
   "execution_count": 30,
   "metadata": {},
   "outputs": [],
   "source": [
    "def joongen():\n",
    "    yield 'x'\n",
    "    yield 'y'\n",
    "    yield 'z'\n",
    "\n",
    "jg = joongen()"
   ]
  },
  {
   "cell_type": "markdown",
   "metadata": {
    "id": "g3vDNo2gWsdu"
   },
   "source": [
    "mygen() 함수는 yield 구문을 포함하므로 제너레이터이다. **제너레이터 객체**는 g = mygen()과 같이 제너레이터 함수를 호출하여 만들 수 있다. type 명령어로 확인하면 g 객체는 제너레이터 타입의 객체임을 알 수 있다."
   ]
  },
  {
   "cell_type": "code",
   "execution_count": 40,
   "metadata": {
    "id": "TDZ44hj9WtmF"
   },
   "outputs": [
    {
     "data": {
      "text/plain": [
       "generator"
      ]
     },
     "execution_count": 40,
     "metadata": {},
     "output_type": "execute_result"
    }
   ],
   "source": [
    "type(g)"
   ]
  },
  {
   "cell_type": "code",
   "execution_count": 25,
   "metadata": {},
   "outputs": [
    {
     "data": {
      "text/plain": [
       "generator"
      ]
     },
     "execution_count": 25,
     "metadata": {},
     "output_type": "execute_result"
    }
   ],
   "source": [
    "type(jg)"
   ]
  },
  {
   "cell_type": "markdown",
   "metadata": {
    "id": "idXhJ5kfWuni"
   },
   "source": [
    "이제 다음과 같이 제너레이터의 값을 차례대로 얻어 보자."
   ]
  },
  {
   "cell_type": "code",
   "execution_count": 41,
   "metadata": {
    "id": "Pld5l_HhWv_w"
   },
   "outputs": [
    {
     "data": {
      "text/plain": [
       "'a'"
      ]
     },
     "execution_count": 41,
     "metadata": {},
     "output_type": "execute_result"
    }
   ],
   "source": [
    "next(g)"
   ]
  },
  {
   "cell_type": "code",
   "execution_count": 34,
   "metadata": {},
   "outputs": [
    {
     "data": {
      "text/plain": [
       "'x'"
      ]
     },
     "execution_count": 34,
     "metadata": {},
     "output_type": "execute_result"
    }
   ],
   "source": [
    "next(jg)"
   ]
  },
  {
   "cell_type": "markdown",
   "metadata": {
    "id": "dhwUscAvWxKQ"
   },
   "source": [
    "이처럼 제너레이터 객체 g로 next() 함수를 실행하면 mygen() 함수의 첫 번째 yield 문에 따라 'a' 값을 리턴한다.\n",
    "\n",
    "여기서 재밌는 점은, 제너레이터는 yield라는 문장을 만나면 그 값을 리턴하되 현재 상태를 그대로 기억한다는 점이다. 이건 마치 음악을 재생하다가 일시 정지 버튼으로 멈춘 것과 비슷한 모양새이다.\n",
    "\n",
    "다시 next() 함수를 실행해 보자."
   ]
  },
  {
   "cell_type": "code",
   "execution_count": 42,
   "metadata": {
    "id": "OQ23XeB-WyZG"
   },
   "outputs": [
    {
     "data": {
      "text/plain": [
       "'b'"
      ]
     },
     "execution_count": 42,
     "metadata": {},
     "output_type": "execute_result"
    }
   ],
   "source": [
    "next(g)"
   ]
  },
  {
   "cell_type": "code",
   "execution_count": 44,
   "metadata": {},
   "outputs": [
    {
     "data": {
      "text/plain": [
       "'y'"
      ]
     },
     "execution_count": 44,
     "metadata": {},
     "output_type": "execute_result"
    }
   ],
   "source": [
    "next(jg)"
   ]
  },
  {
   "cell_type": "markdown",
   "metadata": {
    "id": "QyxOZRruWz4z"
   },
   "source": [
    "이번에는 두 번째 yield문에 따라 'b' 값을 리턴한다. 계속해서 next() 함수를 호출하면 다음과 같은 결과가 출력될 것이다."
   ]
  },
  {
   "cell_type": "code",
   "execution_count": 43,
   "metadata": {
    "id": "Ros6YToRW1Iq"
   },
   "outputs": [
    {
     "data": {
      "text/plain": [
       "'c'"
      ]
     },
     "execution_count": 43,
     "metadata": {},
     "output_type": "execute_result"
    }
   ],
   "source": [
    "next(g)\n",
    "\n",
    "# Run the code above again"
   ]
  },
  {
   "cell_type": "code",
   "execution_count": 45,
   "metadata": {},
   "outputs": [
    {
     "data": {
      "text/plain": [
       "'z'"
      ]
     },
     "execution_count": 45,
     "metadata": {},
     "output_type": "execute_result"
    }
   ],
   "source": [
    "next(jg)"
   ]
  },
  {
   "cell_type": "markdown",
   "metadata": {
    "id": "ryYPqV-7W2Mp"
   },
   "source": [
    "mygen() 함수에는 총 3개의 yield문이 있으므로 4번째 next()를 호출할 때는 더는 리턴할 값이 없으므로 StopIteration 예외가 발생한다.\n",
    "\n",
    "모든 제너레이터는 이터레이터를 만들기 때문에, **제너레이터 객체 = 이터레이터**라 할 수 있다."
   ]
  },
  {
   "cell_type": "markdown",
   "metadata": {
    "id": "olxx60jgW2oV"
   },
   "source": [
    "### Generator expression"
   ]
  },
  {
   "cell_type": "markdown",
   "metadata": {
    "id": "Sjq8N7DXW8gV"
   },
   "source": [
    "이번에는 다음과 같은 예를 보자."
   ]
  },
  {
   "cell_type": "code",
   "execution_count": 46,
   "metadata": {
    "id": "viaqhl-6W9b_"
   },
   "outputs": [
    {
     "name": "stdout",
     "output_type": "stream",
     "text": [
      "1\n",
      "4\n",
      "9\n"
     ]
    }
   ],
   "source": [
    "def mygen():\n",
    "    for i in range(1, 1000):\n",
    "        result = i * i\n",
    "        yield result\n",
    "\n",
    "gen = mygen()\n",
    "\n",
    "print(next(gen))\n",
    "print(next(gen))\n",
    "print(next(gen))"
   ]
  },
  {
   "cell_type": "code",
   "execution_count": 51,
   "metadata": {},
   "outputs": [
    {
     "name": "stdout",
     "output_type": "stream",
     "text": [
      "1\n",
      "4\n",
      "27\n"
     ]
    }
   ],
   "source": [
    "def joongen():\n",
    "    for i in range(1, 1000):\n",
    "        result = i ** i\n",
    "        yield result\n",
    "\n",
    "j_gen = joongen()\n",
    "print(next(j_gen))\n",
    "print(next(j_gen))\n",
    "print(next(j_gen))"
   ]
  },
  {
   "cell_type": "markdown",
   "metadata": {
    "id": "16PJV0hAW-va"
   },
   "source": [
    "mygen() 함수는 1부터 1,000까지 각각의 숫자를 제곱한 값을 순서대로 리턴하는 제너레이터이다. 이 예제를 실행하면 총 3번의 next()를 호출하므로 다음과 같은 결과가 나올 것이다."
   ]
  },
  {
   "cell_type": "code",
   "execution_count": 52,
   "metadata": {
    "id": "nfsY2ooVW_9b"
   },
   "outputs": [
    {
     "data": {
      "text/plain": [
       "9"
      ]
     },
     "execution_count": 52,
     "metadata": {},
     "output_type": "execute_result"
    }
   ],
   "source": [
    "1\n",
    "4\n",
    "9"
   ]
  },
  {
   "cell_type": "markdown",
   "metadata": {
    "id": "Sd3dL4ygW-zt"
   },
   "source": [
    "제너레이터는 def를 이용한 함수로 만들 수 있지만, 다음과 같이 튜플 표현식으로 좀 더 간단하게 만들 수도 있다."
   ]
  },
  {
   "cell_type": "code",
   "execution_count": 54,
   "metadata": {
    "id": "eRaVGG-VW-XL"
   },
   "outputs": [],
   "source": [
    "gen = (i * i for i in range(1, 1000))"
   ]
  },
  {
   "cell_type": "code",
   "execution_count": 55,
   "metadata": {},
   "outputs": [],
   "source": [
    "j_gen = (i ** i for i in range(1, 1000))"
   ]
  },
  {
   "cell_type": "markdown",
   "metadata": {
    "id": "u6GGkOO6XC7G"
   },
   "source": [
    "이 표현식은 mygen() 함수로 만든 제너레이터와 완전히 똑같이 기능한다.\n",
    "\n",
    "> 여기서 사용한 표현식은, 다음 chapter에서 배울 리스트 컴프리헨션(list comprehension) 구문과 비슷하다.\n",
    "\n",
    "다만 리스트 대신 튜플을 이용한 점이 다르다. 이와 같은 표현식을 제너레이터 표현식(generator expression)이라 부른다."
   ]
  },
  {
   "cell_type": "markdown",
   "metadata": {
    "id": "jEnfZpaZXdR_"
   },
   "source": [
    "### Generator / Iterator"
   ]
  },
  {
   "cell_type": "markdown",
   "metadata": {
    "id": "-GIQWXaVXhA1"
   },
   "source": [
    "지금까지 살펴본 제너레이터는 이터레이터와 서로 상당히 비슷하다는 것을 알 수 있다. 클래스를 이용하여 이터레이터를 작성하면 좀 더 복잡한 행동을 하게 할 수 있다. 이와는 달리 제너레이터 표현식 등을 이용하면 간단하게 이터레이터를 만들 수 있다.\n",
    "\n",
    "따라서 이터레이터의 성격에 따라, 클래스로 만들 것인지 제너레이터로 만들 것인지를 선택해야 한다.\n",
    "<br><br>\n",
    "간단한 경우라면 generator 함수나 generator 표현식을 사용하는 것이 가독성이나 유지보수 측면에서 유리하다.\n",
    "\n",
    "다음은 (i * i for i in range(1, 1000)) 제너레이터를 이터레이터 클래스로 구현한 예이다."
   ]
  },
  {
   "cell_type": "code",
   "execution_count": 56,
   "metadata": {
    "id": "oJ3k7my1XiU7"
   },
   "outputs": [],
   "source": [
    "class MyIterator:\n",
    "    def __init__(self):\n",
    "        self.data = 1\n",
    "\n",
    "    def __iter__(self):\n",
    "        return self\n",
    "\n",
    "    def __next__(self):\n",
    "        result = self.data * self.data\n",
    "        self.data += 1\n",
    "        if self.data >= 1000:\n",
    "            raise StopIteration\n",
    "            \n",
    "        return result"
   ]
  },
  {
   "cell_type": "markdown",
   "metadata": {
    "id": "6_I6LVofXjXy"
   },
   "source": [
    "이렇게 간단한 경우라면 이터레이터 클래스보다는 제너레이터 표현식을 사용하는 것이 훨씬 간편하고 이해하기 쉽다."
   ]
  },
  {
   "cell_type": "markdown",
   "metadata": {
    "id": "FWul7OLaXlAl"
   },
   "source": [
    "### When to use Generator"
   ]
  },
  {
   "cell_type": "markdown",
   "metadata": {
    "id": "Y6k4y5f2XoUs"
   },
   "source": [
    "이번에는 제너레이터의 쓰임새에 대해서 알아보자. 조금은 이해하기 어려운 제너레이터라는 것은 과연 어디에 활용하면 좋을까?\n",
    "\n",
    "> 정말 중요한 이유가 끝에 나오니, 집중해서 읽어야하는 파트이다.\n",
    "\n",
    "다음의 예를 살펴 보자."
   ]
  },
  {
   "cell_type": "code",
   "execution_count": 57,
   "metadata": {
    "id": "4R-T1VqOXoxy"
   },
   "outputs": [
    {
     "name": "stdout",
     "output_type": "stream",
     "text": [
      "job start\n",
      "job start\n",
      "job start\n",
      "job start\n",
      "job start\n",
      "done\n"
     ]
    }
   ],
   "source": [
    "import time\n",
    "\n",
    "\n",
    "def longtime_job():\n",
    "    print(\"job start\")\n",
    "    time.sleep(1)\n",
    "    return \"done\"\n",
    "\n",
    "\n",
    "list_job = iter([longtime_job() for i in range(5)])\n",
    "print(next(list_job))"
   ]
  },
  {
   "cell_type": "markdown",
   "metadata": {
    "id": "pBuQQeaMXp38"
   },
   "source": [
    "longtime_job()이라는 함수는 총 실행 시간이 1초인 함수이다. 이 예제는 longtime_job() 함수를 5번 실행하여 리스트에 그 결괏값을 담고 이를 이터레이터로 변경한 후 그 첫 번째 결괏값을 호출하는 예제이다. 실행하면 다음과 같은 결과를 출력한다."
   ]
  },
  {
   "cell_type": "code",
   "execution_count": null,
   "metadata": {
    "id": "wXtq5loQXsBr"
   },
   "outputs": [],
   "source": [
    "job start\n",
    "job start\n",
    "job start\n",
    "job start\n",
    "job start\n",
    "done"
   ]
  },
  {
   "cell_type": "markdown",
   "metadata": {
    "id": "Euph4vWEXsV3"
   },
   "source": [
    "리스트를 만들 때 이미 5개의 함수를 모두 실행하므로 5초의 시간이 소요되고 이와 같은 결과를 출력한다.\n",
    "\n",
    "이번에는 이 예제에 제너레이터 기법을 도입해 보자. 프로그램을 다음과 같이 수정한다."
   ]
  },
  {
   "cell_type": "code",
   "execution_count": 58,
   "metadata": {
    "id": "azOvHJMVXt4X"
   },
   "outputs": [
    {
     "name": "stdout",
     "output_type": "stream",
     "text": [
      "job start\n",
      "done\n"
     ]
    }
   ],
   "source": [
    "import time\n",
    "\n",
    "\n",
    "def longtime_job():\n",
    "    print(\"job start\")\n",
    "    time.sleep(1)\n",
    "    return \"done\"\n",
    "\n",
    "\n",
    "list_job = (longtime_job() for i in range(5))\n",
    "print(next(list_job))"
   ]
  },
  {
   "cell_type": "markdown",
   "metadata": {
    "id": "s5gNiWEcXu3a"
   },
   "source": [
    "iter([longtime_job() for i in range(5)]) 코드를 제너레이터 표현식((longtime_job() for i in range(5)))으로 바꾸었을 뿐이다. 하지만, 실행 시 1초의 시간만 소요되고 출력되는 결과도 전혀 다르다."
   ]
  },
  {
   "cell_type": "markdown",
   "metadata": {
    "id": "Y1OTsCiDXwEc"
   },
   "source": [
    "즉, 모든 함수를 한꺼번에 실행하는 것이 아니라 필요할 때만 실행하는 방식으로 바뀌게 된다. 이러한 방식을 '느긋한 계산법(**lazy evaluation**)'이라 부른다. 시간이 오래 걸리는 작업을 한꺼번에 처리하기 보다는 필요한 경우에만 순차적으로 사용할 때 제너레이터는 매우 유용하다."
   ]
  },
  {
   "cell_type": "markdown",
   "metadata": {
    "id": "3Kx0Lgu2S_Xj"
   },
   "source": [
    "## 3. Comprehension"
   ]
  },
  {
   "cell_type": "markdown",
   "metadata": {
    "id": "h6hnvtSPazTk"
   },
   "source": [
    "다음과 같은 복잡한 코드를 통해서 생성된 리스트를, 단 한 줄의 코드로 똑같이 만들어보겠다."
   ]
  },
  {
   "cell_type": "code",
   "execution_count": 97,
   "metadata": {
    "colab": {
     "base_uri": "https://localhost:8080/"
    },
    "executionInfo": {
     "elapsed": 298,
     "status": "ok",
     "timestamp": 1676000798911,
     "user": {
      "displayName": "안준영",
      "userId": "06375381406707212101"
     },
     "user_tz": -540
    },
    "id": "9FIPKwtJa7aj",
    "outputId": "2d647976-ecf4-4de1-d8c6-276fdbddcb4e"
   },
   "outputs": [
    {
     "name": "stdout",
     "output_type": "stream",
     "text": [
      "[[1, -1, -3, -5], [1, 4, 8], [7, 5, 3, 1]]\n"
     ]
    }
   ],
   "source": [
    "myList = []\n",
    "\n",
    "for i in range(1, 10, 3):\n",
    "  myContainer = []\n",
    "\n",
    "  if (i % 2) == 0:\n",
    "    for j in [1, 4, 8]:\n",
    "      myContainer.append(j)\n",
    "\n",
    "  else:\n",
    "    for j in range(i, i - 7, -2):\n",
    "      myContainer.append(j)\n",
    "\n",
    "  myList.append(myContainer)\n",
    "\n",
    "print(myList)"
   ]
  },
  {
   "cell_type": "markdown",
   "metadata": {
    "id": "GjYSmmVQa6_I"
   },
   "source": [
    "List comprehension을 이용하면.."
   ]
  },
  {
   "cell_type": "code",
   "execution_count": 60,
   "metadata": {
    "colab": {
     "base_uri": "https://localhost:8080/"
    },
    "executionInfo": {
     "elapsed": 290,
     "status": "ok",
     "timestamp": 1676001013655,
     "user": {
      "displayName": "안준영",
      "userId": "06375381406707212101"
     },
     "user_tz": -540
    },
    "id": "ifU4KJKvbr4A",
    "outputId": "741ce908-62b4-4f50-c1eb-ea0b8f5e2005"
   },
   "outputs": [
    {
     "data": {
      "text/plain": [
       "[[1, -1, -3, -5], [1, 4, 8], [7, 5, 3, 1]]"
      ]
     },
     "execution_count": 60,
     "metadata": {},
     "output_type": "execute_result"
    }
   ],
   "source": [
    "[[j for j in [1,4,8]] if (i%2) == 0 else [j for j in range(i,i-7,-2)] for i in range(1,10,3) ]"
   ]
  },
  {
   "cell_type": "code",
   "execution_count": null,
   "metadata": {},
   "outputs": [],
   "source": []
  },
  {
   "cell_type": "markdown",
   "metadata": {
    "id": "lMMGwbyQcyQo"
   },
   "source": [
    "코드가 훨씬 압축되었다.\n",
    "\n",
    "실제로, JJun의 경우 두 번째 코드를 작성하는 데에 시간도 덜 걸린다.\n",
    "\n",
    "그러나, 유의미한 성능/기능차이가 없다면, 굳이 완벽하게 익히지는 않아도 될 것이다.\n",
    "\n",
    "<br><br> 정말 그러한지 한 번 살펴보자."
   ]
  },
  {
   "cell_type": "markdown",
   "metadata": {
    "id": "pMxcbxfrd8C8"
   },
   "source": [
    "### List comprehension"
   ]
  },
  {
   "cell_type": "markdown",
   "metadata": {
    "id": "-I1TK-HAgSMz"
   },
   "source": [
    "Comprehension중에서도, list comprehension이 압도적으로 많이 쓰인다. 그러나 위에서 배운 generator comprehension도 가능하다."
   ]
  },
  {
   "cell_type": "markdown",
   "metadata": {
    "id": "6kKxPrRAeDrD"
   },
   "source": [
    "Comprehension은 포함/이해 등의 뜻을 가진 영단어로, list comprehension은 list를 포괄적으로 작성하기 위한 것이라고 생각하면 된다."
   ]
  },
  {
   "cell_type": "code",
   "execution_count": 63,
   "metadata": {
    "id": "Cz_l3dINeVU_"
   },
   "outputs": [
    {
     "ename": "NameError",
     "evalue": "name 'iterable' is not defined",
     "output_type": "error",
     "traceback": [
      "\u001b[1;31m---------------------------------------------------------------------------\u001b[0m",
      "\u001b[1;31mNameError\u001b[0m                                 Traceback (most recent call last)",
      "Cell \u001b[1;32mIn[63], line 1\u001b[0m\n\u001b[1;32m----> 1\u001b[0m newlist \u001b[38;5;241m=\u001b[39m [expression \u001b[38;5;28;01mfor\u001b[39;00m item \u001b[38;5;129;01min\u001b[39;00m \u001b[43miterable\u001b[49m \u001b[38;5;28;01mif\u001b[39;00m condition \u001b[38;5;241m==\u001b[39m \u001b[38;5;28;01mTrue\u001b[39;00m]\n",
      "\u001b[1;31mNameError\u001b[0m: name 'iterable' is not defined"
     ]
    }
   ],
   "source": [
    "newlist = [expression for item in iterable if condition == True]"
   ]
  },
  {
   "cell_type": "markdown",
   "metadata": {
    "id": "ucNk5d66eXuQ"
   },
   "source": [
    "위의 것은 pseudocode로,원래의 for loop로 작성하면 다음과 같다."
   ]
  },
  {
   "cell_type": "code",
   "execution_count": null,
   "metadata": {
    "id": "pYSiY7ibfKIn"
   },
   "outputs": [],
   "source": [
    "newlist = []\n",
    "\n",
    "for item in iterable:\n",
    "  if condition == True:\n",
    "    newlist.append(expression)"
   ]
  },
  {
   "cell_type": "markdown",
   "metadata": {
    "id": "tjIlcqYgfUjt"
   },
   "source": [
    "여기에 if의 짝으로 else를 추가해보면,"
   ]
  },
  {
   "cell_type": "code",
   "execution_count": null,
   "metadata": {
    "id": "M3k2vayBfU0n"
   },
   "outputs": [],
   "source": [
    "newlist = []\n",
    "\n",
    "for item in iterable:\n",
    "  if condition == True:\n",
    "    newlist.append(expression)\n",
    "  else:\n",
    "    newlist.append(expression_for_else)"
   ]
  },
  {
   "cell_type": "markdown",
   "metadata": {
    "id": "zhewrQbifU-E"
   },
   "source": [
    "else는, list comprehension에서 if statement 뒤에 연이어 붙여쓴다.\n",
    "\n",
    "대신, if에서와는 반대로 append할 element를 else보다 뒤에 쓴다.\n",
    "\n",
    "또한, for은 맨 뒤로 빼서 쓴다."
   ]
  },
  {
   "cell_type": "code",
   "execution_count": null,
   "metadata": {
    "id": "E5BmyEBWfVEO"
   },
   "outputs": [],
   "source": [
    "newlist = [expression if condition == True else expression_for_else for item in iterable]"
   ]
  },
  {
   "cell_type": "markdown",
   "metadata": {
    "id": "JBBNYKDNh668"
   },
   "source": [
    "2부터 10까지의 짝수들을 list comprehension으로 작성해보자.\n",
    "\n",
    "우선, 일반적인 for loop를 사용해서 작성해보자."
   ]
  },
  {
   "cell_type": "code",
   "execution_count": null,
   "metadata": {
    "id": "-QW1jADkiG5F"
   },
   "outputs": [],
   "source": [
    "myList = []\n",
    "for i in range(2, 11):\n",
    "  if (i % 2) == 0:\n",
    "    myList.append(i)\n",
    "\n",
    "print(myList)"
   ]
  },
  {
   "cell_type": "markdown",
   "metadata": {
    "id": "HKONgKf5iS__"
   },
   "source": [
    "List comprehension으로 작성해보자.\n",
    "\n",
    "주의해야할 점은, else가 없기 때문에 if가 for 뒤에 쓰여야한다는 것이다."
   ]
  },
  {
   "cell_type": "code",
   "execution_count": 64,
   "metadata": {
    "id": "DIbD3nBviaTo"
   },
   "outputs": [
    {
     "data": {
      "text/plain": [
       "[2, 4, 6, 8, 10]"
      ]
     },
     "execution_count": 64,
     "metadata": {},
     "output_type": "execute_result"
    }
   ],
   "source": [
    "[i for i in range(1, 11) if (i % 2) == 0]"
   ]
  },
  {
   "cell_type": "markdown",
   "metadata": {
    "id": "QF0VsvyGi-hU"
   },
   "source": [
    "즉, 어떻게 보면 list의 element를 직접 그 자리에 작성해준다는 점에서 comprehension이 더 직관적이라고 볼 수 있다.\n",
    "\n",
    "실제로 맨 처음에 보았던 예시처럼 다중 for loop는 원소가 어떻게 구성될지 파악하기 어려우나, list comprehension은 원소의 위치에 쓰인 표현을 보면 쉽게 예상할 수 있다."
   ]
  },
  {
   "cell_type": "markdown",
   "metadata": {
    "id": "NfxvFohHfeaG"
   },
   "source": [
    "### Try It!"
   ]
  },
  {
   "cell_type": "markdown",
   "metadata": {
    "id": "84h7qiuMhhlR"
   },
   "source": [
    "```[ [1,2,3,4,5], [6,7,8,9,10] ]```이라는 nested list를 comprehension을 통해 한 줄로 작성해보자."
   ]
  },
  {
   "cell_type": "markdown",
   "metadata": {
    "id": "D8xc8ExHfg6V"
   },
   "source": [
    "※ 초보자가 list comprehension을 작성하기 가장 좋은 방법은, 우선 빠르게 일반 for loop를 통해서 코드를 작성해놓은 뒤, 압축한다는 생각으로 다시 작성하는 것이다."
   ]
  },
  {
   "cell_type": "code",
   "execution_count": 172,
   "metadata": {
    "id": "BVT7N2eHfeho"
   },
   "outputs": [
    {
     "data": {
      "text/plain": [
       "[]"
      ]
     },
     "execution_count": 172,
     "metadata": {},
     "output_type": "execute_result"
    }
   ],
   "source": [
    "# Guideline\n",
    "[[a for a in [1,2,3,4,5]] if (i) == i else [a for a in range (i,i + 5,2)] for i in range (0)]\n",
    "# [expression if condition == True else expression_for_else for item in iterable]\n",
    "# Nested list이기 때문에, expression에 해당하는 데이터 (= element) 자체가 또다른 list가 될 것이다.\n",
    "\n",
    "# [ []     ]"
   ]
  },
  {
   "cell_type": "markdown",
   "metadata": {
    "id": "MrSZMvqzkR18"
   },
   "source": [
    "### So much faster than appending"
   ]
  },
  {
   "cell_type": "markdown",
   "metadata": {
    "id": "5Ku8FHYBkh55"
   },
   "source": [
    "timeit은, 코드(특히 for loop처럼 iteration이 있는)의 속도를 측정하는 데에 아주 좋은 module이다."
   ]
  },
  {
   "cell_type": "code",
   "execution_count": 95,
   "metadata": {
    "id": "13Xd7B9xkR7T"
   },
   "outputs": [
    {
     "data": {
      "text/plain": [
       "1.9933276999508962"
      ]
     },
     "execution_count": 95,
     "metadata": {},
     "output_type": "execute_result"
    }
   ],
   "source": [
    "import timeit \n",
    "\n",
    "timeit.timeit(stmt='''\\\n",
    "t = []\n",
    "for i in range(10000):\n",
    "    t.append(i)''', number=10000)\n",
    "\n",
    "#timeit.timeit(stmt='t= [i for i in range(10000)]', number=10000)"
   ]
  },
  {
   "cell_type": "markdown",
   "metadata": {
    "id": "3nVclfIpkv2I"
   },
   "source": [
    "[Stackoverflow의 한 포스트](https://stackoverflow.com/questions/30245397/why-is-a-list-comprehension-so-much-faster-than-appending-to-a-list)에 훌륭한 답변이 있다.\n",
    "\n",
    "위 코드와 같은 **일반적인 상황**에서 comprehension이 빠른 이유는, 매 iteration마다 append function을 불러오지 않아도 되기 때문이다."
   ]
  },
  {
   "cell_type": "markdown",
   "metadata": {
    "id": "bHJ70wnNTB3p"
   },
   "source": [
    "## 4. Lambda Expression\n"
   ]
  },
  {
   "cell_type": "markdown",
   "metadata": {
    "id": "Og6BzJHdlj_i"
   },
   "source": [
    "Lambda가 다시 등장했다.\n",
    "\n",
    "Week 1의 homework에서 한 번, Week 4의 function에서 한 번 등장했었다.\n",
    "\n",
    "이제는 lambda를 능숙히 사용하게 될 때가 되었다."
   ]
  },
  {
   "cell_type": "code",
   "execution_count": null,
   "metadata": {
    "id": "MnAS5HHU0GKa"
   },
   "outputs": [],
   "source": [
    "lambda 매개변수 : 표현식"
   ]
  },
  {
   "cell_type": "markdown",
   "metadata": {
    "id": "dhcnwj7r0HqC"
   },
   "source": [
    "다음은 두 수를 더하는 함수다."
   ]
  },
  {
   "cell_type": "code",
   "execution_count": 100,
   "metadata": {
    "id": "qbLGubhI0JvD"
   },
   "outputs": [
    {
     "data": {
      "text/plain": [
       "30"
      ]
     },
     "execution_count": 100,
     "metadata": {},
     "output_type": "execute_result"
    }
   ],
   "source": [
    "def hap(x, y):\n",
    "   return x + y\n",
    "\n",
    "hap(10, 20)"
   ]
  },
  {
   "cell_type": "code",
   "execution_count": 102,
   "metadata": {},
   "outputs": [
    {
     "data": {
      "text/plain": [
       "2"
      ]
     },
     "execution_count": 102,
     "metadata": {},
     "output_type": "execute_result"
    }
   ],
   "source": [
    "def cha(x,y):\n",
    "    return x - y\n",
    "\n",
    "cha(5,3)"
   ]
  },
  {
   "cell_type": "markdown",
   "metadata": {
    "id": "TVvbKAxT0M19"
   },
   "source": [
    "람다 형식으로는,"
   ]
  },
  {
   "cell_type": "code",
   "execution_count": 103,
   "metadata": {
    "id": "4Ao_wEHN0OZE"
   },
   "outputs": [
    {
     "data": {
      "text/plain": [
       "30"
      ]
     },
     "execution_count": 103,
     "metadata": {},
     "output_type": "execute_result"
    }
   ],
   "source": [
    "(lambda x,y: x + y)(10, 20)"
   ]
  },
  {
   "cell_type": "code",
   "execution_count": 104,
   "metadata": {},
   "outputs": [
    {
     "data": {
      "text/plain": [
       "2"
      ]
     },
     "execution_count": 104,
     "metadata": {},
     "output_type": "execute_result"
    }
   ],
   "source": [
    "(lambda x,y: x - y)(5,3)"
   ]
  },
  {
   "cell_type": "markdown",
   "metadata": {
    "id": "B1GxuwyK0Skr"
   },
   "source": [
    "배웠던 것처럼, 한 줄 정도의 간단한 코드를 위한 이름이 없는 함수라고 보면 된다. 사실 이 자체로는 많이 쓰이지 않으나, 다음과 같은 세 가지 built-in functions와 결합하여 자주 쓰인다."
   ]
  },
  {
   "cell_type": "markdown",
   "metadata": {
    "id": "mjo2OfC10dvl"
   },
   "source": [
    "### map() + lambda"
   ]
  },
  {
   "cell_type": "markdown",
   "metadata": {
    "id": "yyFvd9rhDhHt"
   },
   "source": [
    "먼저 map 함수를 보자."
   ]
  },
  {
   "cell_type": "code",
   "execution_count": null,
   "metadata": {
    "id": "I3S6CQVWDik0"
   },
   "outputs": [],
   "source": [
    "map(함수, 리스트)"
   ]
  },
  {
   "cell_type": "markdown",
   "metadata": {
    "id": "ZGh9UHbADjSj"
   },
   "source": [
    "map()은 function과 list를 arugment로 받는다.\n",
    "\n",
    "그리고, list로부터 element를 하나씩 꺼내서 함수를 적용시킨 다음, 그 결과를 새로운 list에 담는다."
   ]
  },
  {
   "cell_type": "code",
   "execution_count": 105,
   "metadata": {
    "id": "3DOdauDGDkAs"
   },
   "outputs": [
    {
     "data": {
      "text/plain": [
       "[0, 1, 4, 9, 16]"
      ]
     },
     "execution_count": 105,
     "metadata": {},
     "output_type": "execute_result"
    }
   ],
   "source": [
    "list(map(lambda x: x ** 2, range(5)))   \n",
    "\n",
    "# list(map(lambda x: x ** 2, range(5)))  "
   ]
  },
  {
   "cell_type": "code",
   "execution_count": 106,
   "metadata": {},
   "outputs": [
    {
     "data": {
      "text/plain": [
       "[0, 2, 4, 6, 8, 10, 12]"
      ]
     },
     "execution_count": 106,
     "metadata": {},
     "output_type": "execute_result"
    }
   ],
   "source": [
    "list(map(lambda x: x * 2, range (7)))"
   ]
  },
  {
   "cell_type": "markdown",
   "metadata": {
    "id": "IvrhqZ3oDk8Q"
   },
   "source": [
    "map()은 list에서 element를 하나씩 꺼내서 함수를 적용시킨 결과를 새로운 list에 담아주니까, 위의 예시는 0을 제곱하고, 1을 제곱하고, 2, 3, 4를 제곱한 것을 새로운 리스트에 넣어주는 것이다."
   ]
  },
  {
   "cell_type": "markdown",
   "metadata": {
    "id": "XpWjDMxGEDlK"
   },
   "source": [
    "### Try It!"
   ]
  },
  {
   "cell_type": "markdown",
   "metadata": {
    "id": "O7cAsyvuENGy"
   },
   "source": [
    "Homework1에서 풀지 못했었던 map() + lambda 문제를 해결해보자."
   ]
  },
  {
   "cell_type": "code",
   "execution_count": null,
   "metadata": {
    "id": "grG5cGQVEKkW"
   },
   "outputs": [],
   "source": []
  },
  {
   "cell_type": "markdown",
   "metadata": {
    "id": "qyykCYoc0hc4"
   },
   "source": [
    "### reduce() + lambda"
   ]
  },
  {
   "cell_type": "markdown",
   "metadata": {
    "id": "2z15pDVTEtnV"
   },
   "source": [
    "reduce는 알아두면 너무나 유용한 함수이다.\n",
    "\n",
    "자주 쓰인다기 보단, 특정 상황에서 \"아! reduce()!\"라는 깨달음과 함께 깔끔하게 해결되는 문제가 있는 느낌이다."
   ]
  },
  {
   "cell_type": "code",
   "execution_count": 112,
   "metadata": {
    "id": "81WvQ_9gEXK-"
   },
   "outputs": [
    {
     "ename": "NameError",
     "evalue": "name '함수' is not defined",
     "output_type": "error",
     "traceback": [
      "\u001b[1;31m---------------------------------------------------------------------------\u001b[0m",
      "\u001b[1;31mNameError\u001b[0m                                 Traceback (most recent call last)",
      "Cell \u001b[1;32mIn[112], line 3\u001b[0m\n\u001b[0;32m      1\u001b[0m \u001b[38;5;28;01mfrom\u001b[39;00m \u001b[38;5;21;01mfunctools\u001b[39;00m \u001b[38;5;28;01mimport\u001b[39;00m reduce \n\u001b[1;32m----> 3\u001b[0m reduce(\u001b[43m함수\u001b[49m, 시퀀스)\n",
      "\u001b[1;31mNameError\u001b[0m: name '함수' is not defined"
     ]
    }
   ],
   "source": [
    "from functools import reduce \n",
    "\n",
    "reduce(함수, 시퀀스)"
   ]
  },
  {
   "cell_type": "markdown",
   "metadata": {
    "id": "f1cAo7gWEWra"
   },
   "source": [
    "Sequence(문자열, 리스트, 튜플)의 element들을 순차적/누적적(accumulatively)으로 함수에 적용시킨다."
   ]
  },
  {
   "cell_type": "code",
   "execution_count": 113,
   "metadata": {
    "id": "9nRMy4S0FZO4"
   },
   "outputs": [
    {
     "data": {
      "text/plain": [
       "10"
      ]
     },
     "execution_count": 113,
     "metadata": {},
     "output_type": "execute_result"
    }
   ],
   "source": [
    "reduce(lambda x, y: x + y, [0, 1, 2, 3, 4])"
   ]
  },
  {
   "cell_type": "code",
   "execution_count": 114,
   "metadata": {},
   "outputs": [
    {
     "data": {
      "text/plain": [
       "-25"
      ]
     },
     "execution_count": 114,
     "metadata": {},
     "output_type": "execute_result"
    }
   ],
   "source": [
    "reduce(lambda x, y: x - y, [5,6,7,8,9])"
   ]
  },
  {
   "cell_type": "markdown",
   "metadata": {
    "id": "ivmVAydnFbG_"
   },
   "source": [
    "위 예제는, 0과 1을 먼저 더하고, 그 값과 2를 더하고, 그 값과 3을 더하고, 그 값과 4를 더한다.\n",
    "\n",
    "결론적으로 0부터 4까지 더해주는 것이 되었다."
   ]
  },
  {
   "cell_type": "markdown",
   "metadata": {
    "id": "n8r0pIKvFy0t"
   },
   "source": [
    "### Try It!"
   ]
  },
  {
   "cell_type": "markdown",
   "metadata": {
    "id": "ktncvZrwF0yX"
   },
   "source": [
    "다음 코드를 돌리지 않고, 결과를 예상해보자."
   ]
  },
  {
   "cell_type": "code",
   "execution_count": 117,
   "metadata": {
    "id": "qDEPIbQAF044"
   },
   "outputs": [
    {
     "data": {
      "text/plain": [
       "'edcba'"
      ]
     },
     "execution_count": 117,
     "metadata": {},
     "output_type": "execute_result"
    }
   ],
   "source": [
    "reduce(lambda x, y: y + x, 'abcde')"
   ]
  },
  {
   "cell_type": "markdown",
   "metadata": {
    "id": "pG-O1kf80kDi"
   },
   "source": [
    "### filter() + lambda"
   ]
  },
  {
   "cell_type": "code",
   "execution_count": null,
   "metadata": {
    "id": "AnGxNBtcF6uE"
   },
   "outputs": [],
   "source": [
    "filter(함수, 리스트)"
   ]
  },
  {
   "cell_type": "markdown",
   "metadata": {
    "id": "7SPXzbPQ0hwL"
   },
   "source": [
    "filter(함수, 리스트)는, list에 들어있는 원소들을 함수에 적용시켜서, 결과가 참인 값들로 새로운 리스트를 만들어준다."
   ]
  },
  {
   "cell_type": "code",
   "execution_count": 118,
   "metadata": {
    "id": "FPM0Ygv7GCHU"
   },
   "outputs": [
    {
     "data": {
      "text/plain": [
       "[0, 1, 2, 3, 4]"
      ]
     },
     "execution_count": 118,
     "metadata": {},
     "output_type": "execute_result"
    }
   ],
   "source": [
    "list(filter(lambda x: x < 5, range(10)))\n",
    "\n",
    "# list(filter(lambda x: x < 5, range(10)))\n",
    "\n",
    "# list(filter(lambda x: x % 2, range(10)))"
   ]
  },
  {
   "cell_type": "code",
   "execution_count": 119,
   "metadata": {},
   "outputs": [
    {
     "data": {
      "text/plain": [
       "[4, 5, 6, 7]"
      ]
     },
     "execution_count": 119,
     "metadata": {},
     "output_type": "execute_result"
    }
   ],
   "source": [
    "list(filter(lambda x: x > 3, range(8)))"
   ]
  },
  {
   "cell_type": "markdown",
   "metadata": {
    "id": "lzD5qY4INhqP"
   },
   "source": [
    "# Homework"
   ]
  },
  {
   "cell_type": "markdown",
   "metadata": {
    "id": "1UT0eNIt9pT5"
   },
   "source": [
    "### Problem 1."
   ]
  },
  {
   "cell_type": "markdown",
   "metadata": {
    "id": "HTtGnRht-T-6"
   },
   "source": [
    "다음은, Week 5의 Problem 2.와 그에 대한 solution이다.\n",
    "\n"
   ]
  },
  {
   "cell_type": "markdown",
   "metadata": {
    "id": "L4fQ4M8SSCjH"
   },
   "source": [
    "> 다음은 세계 천재들의 순위를 이름으로 나타낸 리스트이다.\n",
    "<br><br>\n",
    "```G = ['Albert Einstein', 'Stephen Hawking', 'Ralph Emerson', 'Antoine Lavoisier', 'Junyeong F. Ahn', 'Justin Python Lee', 'Richard Feynman']```\n",
    "<br><br>\n",
    "대부분의 천재들은 모두 first name과 last name으로 띄어쓰기가 한 칸 밖에 없지만, 예를 들어 Junyeong F. Ahn은 middle name 때문에 띄어쓰기가 두 칸 되어있다.\n",
    "<br><br>\n",
    "<br><br>\n",
    "G list의 모든 element가 다음과 같이 first name과 last name으로만 이루어지도록 바꾸시오.\n",
    "<br><br>\n",
    "```G_after_modifying = ['Albert Einstein', 'Stephen Hawking', 'Ralph Emerson', 'Antoine Lavoisier', 'Junyeong Ahn', 'Justin Lee', 'Richard Feynman']```"
   ]
  },
  {
   "cell_type": "code",
   "execution_count": 159,
   "metadata": {
    "id": "c6a9LcrFWwVQ"
   },
   "outputs": [
    {
     "name": "stdout",
     "output_type": "stream",
     "text": [
      "['Albert Einstein', 'Stephen Hawking', 'Ralph Emerson', 'Antoine Lavoisier', 'Junyeong Ahn', 'Justin Lee', 'Richard Feynman']\n"
     ]
    }
   ],
   "source": [
    "# Solution code for this problem\n",
    "\n",
    "G = ['Albert Einstein', 'Stephen Hawking', 'Ralph Emerson', 'Antoine Lavoisier', 'Junyeong F. Ahn', 'Justin Python Lee', 'Richard Feynman']\n",
    "\n",
    "for idx in range(len(G)):\n",
    "  \n",
    "  splited_name = G[idx].split()\n",
    "\n",
    "  if len(splited_name) != 2:\n",
    "\n",
    "    G[idx] = ' '.join( ( splited_name[0], splited_name[-1] ) )\n",
    "\n",
    "print(G)"
   ]
  },
  {
   "cell_type": "markdown",
   "metadata": {
    "id": "cPLNQvEnTq6M"
   },
   "source": [
    "이 문제를, list comprehension을 이용하여 one-liner solution으로 해결하시오."
   ]
  },
  {
   "cell_type": "markdown",
   "metadata": {
    "id": "zhteqmWjVnwf"
   },
   "source": [
    "Hint : 위의 Teacher's solution은 for loop로 작성되어 있다. 그 답을 기반으로 위에서 comprehension을 배운 대로, 코드를 압축한다는 느낌으로 변환해보자."
   ]
  },
  {
   "cell_type": "markdown",
   "metadata": {
    "id": "NCkW0VC4TvNr"
   },
   "source": [
    "Student's solution"
   ]
  },
  {
   "cell_type": "code",
   "execution_count": 161,
   "metadata": {
    "id": "NvESXn_vTvaQ"
   },
   "outputs": [
    {
     "name": "stdout",
     "output_type": "stream",
     "text": [
      "[]\n"
     ]
    }
   ],
   "source": [
    "G = ['Albert Einstein', 'Stephen Hawking', 'Ralph Emerson', 'Antoine Lavoisier', 'Junyeong F. Ahn', 'Justin Python Lee', 'Richard Feynman']\n",
    "\n",
    "\n",
    "G_after_modifying = [(splited_name[0], splited_name[-1]) for idx in range(len(G)) if len(splited_name) != 2]  # Write your one-liner solution here\n",
    "print(G_after_modifying) # Validate your code"
   ]
  },
  {
   "cell_type": "markdown",
   "metadata": {
    "id": "wYgZ3Fna9rIV"
   },
   "source": [
    "### Problem 2."
   ]
  },
  {
   "cell_type": "markdown",
   "metadata": {
    "id": "JpDoxIUnWAyX"
   },
   "source": [
    "다음은, Week 5의 Problem 5.와 그에 대한 solution이다.\n",
    "\n"
   ]
  },
  {
   "cell_type": "markdown",
   "metadata": {
    "id": "Z-uiSc0hWDIr"
   },
   "source": [
    "Divine은 Jun의 친구로, 뭐든지 다섯 개씩 묶는 강박증이 있다.\n",
    "\n",
    "Jun과 Divine의 대화 내용은 다음과 같다.\n",
    "\n",
    "<br><br>\n",
    "> Jun : \"만약 어떤 물체가 27개 있다면, 넌 어떻게 할거야?\"\n",
    "\n",
    "> Divine : \"음.. 그럼, 5개씩 5묶음을 만들고, 나머지 두 개는 버릴래.\"\n",
    "\n",
    "> Jun : \"만약 134개라면?\"\n",
    "> \n",
    "> Divine : \"그럼 또 5개씩 26묶음을 만들고, 나머지 네 개는 버리겠지. 난 다섯 개의 묶음이 아니면 안가져\"\n",
    "> \n",
    "> \n",
    "> Jun : \"그럼, 만약 각 물건에 1부터 숫자가 써져있으면? 무작위로 선택할거야?\"\n",
    "> \n",
    "> Divine : \"음, 아니. 1부터 순서대로 묶어서 가질거야.\"\n",
    "\n",
    "\n",
    "\n",
    "<br><br>\n",
    "\n",
    "어떤 물건의 개수를 input, Divine이 가진 물건 묶음의 숫자를 output으로 Python에서 표현하면, 다음과 같다.\n",
    "\n",
    "```\n",
    "Input : 27\n",
    "\n",
    "Output : [ [1,2,3,4,5], [6,7,8,9,10], [11,12,13,14,15], [16,17,18,19,20], [21,22,23,24,25] ]\n",
    "```\n",
    "\n",
    "```\n",
    "Input : 134\n",
    "\n",
    "Output : [[1, 2, 3, 4, 5], [6, 7, 8, 9, 10], [11, 12, 13, 14, 15], [16, 17, 18, 19, 20], [21, 22, 23, 24, 25], [26, 27, 28, 29, 30], [31, 32, 33, 34, 35], [36, 37, 38, 39, 40], [41, 42, 43, 44, 45], [46, 47, 48, 49, 50], [51, 52, 53, 54, 55], [56, 57, 58, 59, 60], [61, 62, 63, 64, 65], [66, 67, 68, 69, 70], [71, 72, 73, 74, 75], [76, 77, 78, 79, 80], [81, 82, 83, 84, 85], [86, 87, 88, 89, 90], [91, 92, 93, 94, 95], [96, 97, 98, 99, 100], [101, 102, 103, 104, 105], [106, 107, 108, 109, 110], [111, 112, 113, 114, 115], [116, 117, 118, 119, 120], [121, 122, 123, 124, 125], [126, 127, 128, 129, 130]]\n",
    "```"
   ]
  },
  {
   "cell_type": "markdown",
   "metadata": {
    "id": "CGTNXxErXJC0"
   },
   "source": [
    "물건의 개수가 X라는 input으로 주어질 때, Divine이 갖게 될 물건 묶음의 숫자 list를 출력하는 Python code를 작성하시오."
   ]
  },
  {
   "cell_type": "code",
   "execution_count": 152,
   "metadata": {
    "id": "pOG25ChdW_xH"
   },
   "outputs": [
    {
     "name": "stdout",
     "output_type": "stream",
     "text": [
      "[[1, 2, 3, 4, 5], [6, 7, 8, 9, 10]]\n"
     ]
    }
   ],
   "source": [
    "# Solution code for this problem\n",
    "\n",
    "X = int(input())\n",
    "Output = []\n",
    "\n",
    "container = []\n",
    "for x in range(1, X + 1):\n",
    "  container.append(x)\n",
    "\n",
    "  if (x % 5) == 0:\n",
    "    Output.append(container)\n",
    "    container = []\n",
    "\n",
    "print(Output) "
   ]
  },
  {
   "cell_type": "markdown",
   "metadata": {
    "id": "D0ttsmEFWAyX"
   },
   "source": [
    "이 문제를, list comprehension을 이용하여 one-liner solution으로 해결하시오."
   ]
  },
  {
   "cell_type": "markdown",
   "metadata": {
    "id": "aVDGhMUmWAyX"
   },
   "source": [
    "- Hint 1 : Problem 1과 같이, Teacher's solution은 for loop로 작성되어 있다. 그 답을 기반으로 위에서 comprehension을 배운 대로, 코드를 압축한다는 느낌으로 변환해보자.\n",
    "\n",
    "- Hint 2 : Nested list를 list comprehension으로 만드는 Try It!이 있었다. 이를 복습해보자.\n",
    "\n",
    "- Hint 3 : 마지막 나머지 부분은 list에 담으면 안되기 때문에, 이를 if를 통해 filtering해줘야 한다.\n"
   ]
  },
  {
   "cell_type": "markdown",
   "metadata": {
    "id": "RYInPASPWd9S"
   },
   "source": [
    "Student's solution"
   ]
  },
  {
   "cell_type": "code",
   "execution_count": 157,
   "metadata": {
    "id": "816k60ym9tbO"
   },
   "outputs": [
    {
     "name": "stdout",
     "output_type": "stream",
     "text": [
      "[[1, 2, 3, 4, 5], [6, 7, 8, 9, 10], [11, 12, 13, 14, 15]]\n"
     ]
    }
   ],
   "source": [
    "X = int(input())\n",
    "\n",
    "Output = [[x-4,x-3,x-2,x-1,x] for x in range(1, X + 1) if (x % 5) == 0]   # Write your one-liner solution here\n",
    "print(Output)"
   ]
  },
  {
   "cell_type": "markdown",
   "metadata": {
    "id": "1wcXT3e19tyU"
   },
   "source": [
    "### Problem 3."
   ]
  },
  {
   "cell_type": "markdown",
   "metadata": {
    "id": "U9d6g8ihZSSd"
   },
   "source": [
    "다음의 함수를, one-liner solution인 ? + lambda expression으로 변환하시오."
   ]
  },
  {
   "cell_type": "markdown",
   "metadata": {
    "id": "KTDjLbdsb9A2"
   },
   "source": [
    "```python\n",
    "randomList = [1,2,3,4,5,6,7,8]\n",
    "\n",
    "def funcForProblem3(myList) :\n",
    "  mysteriousSum = myList[0]\n",
    "  idx = 0\n",
    "\n",
    "  while idx < len(myList) - 1:\n",
    "    mysteriousSum += (myList[idx + 1]) ** 2\n",
    "    idx += 1\n",
    "\n",
    "  return mysteriousSum\n",
    "\n",
    "funcForProblem3(randomList)\n",
    "\n",
    "```"
   ]
  },
  {
   "cell_type": "markdown",
   "metadata": {
    "id": "jgDp2QkEbc4Z"
   },
   "source": [
    "Hint : randomList에 다양한 list를 실험으로 넣어보면서, 값을 비교해보자.\n",
    "\n",
    "Note : 위의 함수가 어떻게 작동하는지 이해하지 못하면, 이 문제는 절대 풀 수 없다. 코드 cell을 추가로 만들어서, 여러가지 실험을 해보며 어떻게 작동하는지 알아내길 바란다.\n"
   ]
  },
  {
   "cell_type": "markdown",
   "metadata": {
    "id": "3-faXZ35b4pQ"
   },
   "source": [
    "Student's solution"
   ]
  },
  {
   "cell_type": "code",
   "execution_count": null,
   "metadata": {
    "id": "M8cudGRfZpDC"
   },
   "outputs": [],
   "source": [
    "randomList = [1,2,3,4,5,6,7,8]\n",
    "\n",
    "(lambda mylist:)\n",
    "\n",
    "# Write your one-liner solution here using ? + lambda expression"
   ]
  }
 ],
 "metadata": {
  "colab": {
   "authorship_tag": "ABX9TyMCcAUr6aAsGvzAI2zZc2Ps",
   "collapsed_sections": [
    "pMxcbxfrd8C8",
    "NfxvFohHfeaG",
    "MrSZMvqzkR18"
   ],
   "provenance": [],
   "toc_visible": true
  },
  "kernelspec": {
   "display_name": "Python 3",
   "name": "python3"
  },
  "language_info": {
   "codemirror_mode": {
    "name": "ipython",
    "version": 3
   },
   "file_extension": ".py",
   "mimetype": "text/x-python",
   "name": "python",
   "nbconvert_exporter": "python",
   "pygments_lexer": "ipython3",
   "version": "3.11.9"
  }
 },
 "nbformat": 4,
 "nbformat_minor": 0
}
